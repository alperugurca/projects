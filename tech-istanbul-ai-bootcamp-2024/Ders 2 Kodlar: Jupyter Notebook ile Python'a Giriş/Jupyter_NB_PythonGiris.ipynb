{
 "cells": [
  {
   "cell_type": "markdown",
   "id": "dd0a2bd7",
   "metadata": {},
   "source": [
    "## Jupyter INB ile Python Giriş\n",
    "Bu bölümde Python programlama dili ile ilgili temell konulara değinilmektedir."
   ]
  },
  {
   "cell_type": "markdown",
   "id": "ca2775d1",
   "metadata": {},
   "source": [
    "# Başlık"
   ]
  },
  {
   "cell_type": "markdown",
   "id": "2423a3fc",
   "metadata": {},
   "source": [
    "## Alt başlık 1"
   ]
  },
  {
   "cell_type": "markdown",
   "id": "a8c67765",
   "metadata": {},
   "source": [
    "### Alt Başlık2"
   ]
  },
  {
   "cell_type": "markdown",
   "id": "2071117f",
   "metadata": {},
   "source": [
    "<b>Python'a Giriş</b> <br>\n",
    "<li> Html kodlarını kullanabilirsiniz."
   ]
  },
  {
   "cell_type": "markdown",
   "id": "aa2062e9",
   "metadata": {},
   "source": [
    "Latext yazımı\n",
    "$$c = \\sqrt{a^2 + b^2}$$"
   ]
  },
  {
   "cell_type": "markdown",
   "id": "cbd917a9",
   "metadata": {},
   "source": [
    "Bir resmi alıp kopyala yapıştır"
   ]
  },
  {
   "attachments": {
    "image.png": {
     "image/png": "[encoded data removed]"
    }
   },
   "cell_type": "markdown",
   "id": "fd0efebc",
   "metadata": {},
   "source": [
    "![image.png](attachment:image.png)"
   ]
  },
  {
   "cell_type": "markdown",
   "id": "10dc221a",
   "metadata": {},
   "source": [
    "URL ekleme\n",
    "![Resim Açıklaması](https://example.com/image.jpg)"
   ]
  },
  {
   "cell_type": "code",
   "execution_count": 10,
   "id": "85b634dc",
   "metadata": {},
   "outputs": [
    {
     "data": {
      "text/latex": [
       "$\\displaystyle F(k) = \\int_{-\\infty}^{\\infty} f(x) e^{2\\pi i k} dx$"
      ],
      "text/plain": [
       "<IPython.core.display.Math object>"
      ]
     },
     "metadata": {},
     "output_type": "display_data"
    }
   ],
   "source": [
    "from IPython.display import display, Math, Latex\n",
    "display(Math(r'F(k) = \\int_{-\\infty}^{\\infty} f(x) e^{2\\pi i k} dx'))"
   ]
  },
  {
   "cell_type": "markdown",
   "id": "f0e73f0b",
   "metadata": {},
   "source": [
    "###  komut satırı kullanımı"
   ]
  },
  {
   "cell_type": "code",
   "execution_count": 9,
   "id": "4525bf74",
   "metadata": {
    "collapsed": true
   },
   "outputs": [
    {
     "name": "stdout",
     "output_type": "stream",
     "text": [
      " Volume in drive C is Windows\n",
      " Volume Serial Number is 4821-D018\n",
      "\n",
      " Directory of C:\\Users\\emura\\Documents\\Techist\\ders1\n",
      "\n",
      "23.05.2024  18:54    <DIR>          .\n",
      "23.05.2024  18:35    <DIR>          ..\n",
      "23.05.2024  18:42    <DIR>          .ipynb_checkpoints\n",
      "10.10.2016  10:50               487 client_list.csv\n",
      "11.02.2024  07:08            55.966 corona_dat.csv\n",
      "23.05.2024  18:54             3.160 Python GiriŸ.ipynb\n",
      "11.02.2024  07:08           131.528 supermarket.csv\n",
      "23.05.2024  17:57    <DIR>          titanic\n",
      "               4 File(s)        191.141 bytes\n",
      "               4 Dir(s)   2.577.690.624 bytes free\n"
     ]
    }
   ],
   "source": [
    "ls"
   ]
  },
  {
   "cell_type": "markdown",
   "id": "b422cc6d",
   "metadata": {},
   "source": [
    "### print fonksiyonu\n",
    "String ifadeler"
   ]
  },
  {
   "cell_type": "code",
   "execution_count": 2,
   "id": "36b9ceba",
   "metadata": {},
   "outputs": [
    {
     "name": "stdout",
     "output_type": "stream",
     "text": [
      "Merhaba TechIstanbul\n"
     ]
    }
   ],
   "source": [
    "print('Merhaba TechIstanbul')"
   ]
  },
  {
   "cell_type": "code",
   "execution_count": 3,
   "id": "e3302f7a",
   "metadata": {},
   "outputs": [
    {
     "data": {
      "text/plain": [
       "'Merhaba TechIstanbul'"
      ]
     },
     "execution_count": 3,
     "metadata": {},
     "output_type": "execute_result"
    }
   ],
   "source": [
    "'Merhaba TechIstanbul'"
   ]
  },
  {
   "cell_type": "code",
   "execution_count": 6,
   "id": "8880c755",
   "metadata": {},
   "outputs": [
    {
     "data": {
      "text/plain": [
       "'Merhaba TechIstanbul'"
      ]
     },
     "execution_count": 6,
     "metadata": {},
     "output_type": "execute_result"
    }
   ],
   "source": [
    "\"Merhaba TechIstanbul\""
   ]
  },
  {
   "cell_type": "code",
   "execution_count": 4,
   "id": "d36baa5e",
   "metadata": {},
   "outputs": [
    {
     "data": {
      "text/plain": [
       "\"'Merhaba TechIstanbul'\""
      ]
     },
     "execution_count": 4,
     "metadata": {},
     "output_type": "execute_result"
    }
   ],
   "source": [
    "\"'Merhaba TechIstanbul'\""
   ]
  },
  {
   "cell_type": "code",
   "execution_count": 5,
   "id": "2f7c2697",
   "metadata": {},
   "outputs": [
    {
     "name": "stdout",
     "output_type": "stream",
     "text": [
      "'Merhaba TechIstanbul'\n"
     ]
    }
   ],
   "source": [
    "print (\"'Merhaba TechIstanbul'\")"
   ]
  },
  {
   "cell_type": "code",
   "execution_count": 14,
   "id": "c398f689",
   "metadata": {},
   "outputs": [
    {
     "data": {
      "text/plain": [
       "' \\nMerhaba\\nBen \\nMurat\\n'"
      ]
     },
     "execution_count": 14,
     "metadata": {},
     "output_type": "execute_result"
    }
   ],
   "source": [
    "''' \n",
    "Merhaba\n",
    "Ben \n",
    "Murat\n",
    "'''\n",
    "#Üç tırnak kullanldığında metni olduğu gibi yazar bu bir yorum satırı"
   ]
  },
  {
   "cell_type": "code",
   "execution_count": 16,
   "id": "6feaf932",
   "metadata": {
    "collapsed": true
   },
   "outputs": [
    {
     "name": "stdout",
     "output_type": "stream",
     "text": [
      "1\n",
      "\n",
      "\n",
      "\n",
      "\n",
      "\n",
      "\n",
      "\n",
      "2\n"
     ]
    }
   ],
   "source": [
    "print('1\\n\\n\\n\\n\\n\\n\\n\\n2')# kaçış katrakterleri"
   ]
  },
  {
   "cell_type": "code",
   "execution_count": 23,
   "id": "8654194f",
   "metadata": {},
   "outputs": [
    {
     "name": "stdout",
     "output_type": "stream",
     "text": [
      "Ocak\tŞubat\tMart\n"
     ]
    }
   ],
   "source": [
    "print('Ocak\\tŞubat\\tMart')"
   ]
  },
  {
   "cell_type": "code",
   "execution_count": 17,
   "id": "d2cbba7f",
   "metadata": {
    "collapsed": true
   },
   "outputs": [
    {
     "name": "stdout",
     "output_type": "stream",
     "text": [
      "\n",
      "Merhaba\n",
      "Ben \n",
      "Murat\n",
      "\n"
     ]
    }
   ],
   "source": [
    "print('''\n",
    "Merhaba\n",
    "Ben \n",
    "Murat\n",
    "''')"
   ]
  },
  {
   "cell_type": "code",
   "execution_count": 18,
   "id": "50f2d5e9",
   "metadata": {
    "collapsed": true
   },
   "outputs": [
    {
     "name": "stdout",
     "output_type": "stream",
     "text": [
      "\n",
      "Merhaba\n",
      "Ben \n",
      "Murat\n",
      "\n"
     ]
    }
   ],
   "source": [
    "print(\"\"\"\n",
    "Merhaba\n",
    "Ben \n",
    "Murat\n",
    "\"\"\") # hangi tırnak türü ile başlandıysa onunla bitmeli"
   ]
  },
  {
   "cell_type": "code",
   "execution_count": 21,
   "id": "1b847aec",
   "metadata": {},
   "outputs": [
    {
     "ename": "SyntaxError",
     "evalue": "invalid syntax (1018004404.py, line 1)",
     "output_type": "error",
     "traceback": [
      "\u001b[1;36m  Cell \u001b[1;32mIn[21], line 1\u001b[1;36m\u001b[0m\n\u001b[1;33m    'Türkiye'nin başkenti Ankara'dır' #sözdizimi hatası\u001b[0m\n\u001b[1;37m             ^\u001b[0m\n\u001b[1;31mSyntaxError\u001b[0m\u001b[1;31m:\u001b[0m invalid syntax\n"
     ]
    }
   ],
   "source": [
    "'Türkiye'nin başkenti Ankara'dır' #sözdizimi hatası"
   ]
  },
  {
   "cell_type": "code",
   "execution_count": 22,
   "id": "045ade0f",
   "metadata": {},
   "outputs": [
    {
     "data": {
      "text/plain": [
       "\"Türkiye'nin başkenti Ankara'dır\""
      ]
     },
     "execution_count": 22,
     "metadata": {},
     "output_type": "execute_result"
    }
   ],
   "source": [
    "\"Türkiye'nin başkenti Ankara'dır\""
   ]
  },
  {
   "cell_type": "code",
   "execution_count": 24,
   "id": "a97f52fa",
   "metadata": {},
   "outputs": [
    {
     "data": {
      "text/plain": [
       "2.5"
      ]
     },
     "execution_count": 24,
     "metadata": {},
     "output_type": "execute_result"
    }
   ],
   "source": [
    "2.5"
   ]
  },
  {
   "cell_type": "markdown",
   "id": "20d62830",
   "metadata": {},
   "source": [
    "### Veri Tipleri"
   ]
  },
  {
   "cell_type": "code",
   "execution_count": 32,
   "id": "fc23ffcf",
   "metadata": {},
   "outputs": [],
   "source": [
    "#type() gömülü fonksiyondur veri tipini verir"
   ]
  },
  {
   "cell_type": "code",
   "execution_count": 25,
   "id": "68462811",
   "metadata": {},
   "outputs": [
    {
     "data": {
      "text/plain": [
       "str"
      ]
     },
     "execution_count": 25,
     "metadata": {},
     "output_type": "execute_result"
    }
   ],
   "source": [
    "type(\"Murat\") #karakter dizisi, string, metinsel ifade"
   ]
  },
  {
   "cell_type": "code",
   "execution_count": 26,
   "id": "9afaf373",
   "metadata": {},
   "outputs": [
    {
     "data": {
      "text/plain": [
       "float"
      ]
     },
     "execution_count": 26,
     "metadata": {},
     "output_type": "execute_result"
    }
   ],
   "source": [
    "type(2.5) #ondalıklı sayı"
   ]
  },
  {
   "cell_type": "code",
   "execution_count": 28,
   "id": "011ef4aa",
   "metadata": {},
   "outputs": [
    {
     "data": {
      "text/plain": [
       "str"
      ]
     },
     "execution_count": 28,
     "metadata": {},
     "output_type": "execute_result"
    }
   ],
   "source": [
    "type(\"2.5\") #karakter dizisi, string, metinsel ifade"
   ]
  },
  {
   "cell_type": "code",
   "execution_count": 30,
   "id": "23e98e35",
   "metadata": {},
   "outputs": [
    {
     "data": {
      "text/plain": [
       "int"
      ]
     },
     "execution_count": 30,
     "metadata": {},
     "output_type": "execute_result"
    }
   ],
   "source": [
    "type(2)#integer tamsayı"
   ]
  },
  {
   "cell_type": "code",
   "execution_count": 33,
   "id": "255123ad",
   "metadata": {},
   "outputs": [
    {
     "data": {
      "text/plain": [
       "4.5"
      ]
     },
     "execution_count": 33,
     "metadata": {},
     "output_type": "execute_result"
    }
   ],
   "source": [
    "2+2.5"
   ]
  },
  {
   "cell_type": "code",
   "execution_count": 35,
   "id": "95f8e0ec",
   "metadata": {},
   "outputs": [
    {
     "data": {
      "text/plain": [
       "'22.5'"
      ]
     },
     "execution_count": 35,
     "metadata": {},
     "output_type": "execute_result"
    }
   ],
   "source": [
    "'2'+'2.5' #metin olarak ele alır"
   ]
  },
  {
   "cell_type": "code",
   "execution_count": 36,
   "id": "271a3507",
   "metadata": {},
   "outputs": [
    {
     "data": {
      "text/plain": [
       "'Murat Altun 124'"
      ]
     },
     "execution_count": 36,
     "metadata": {},
     "output_type": "execute_result"
    }
   ],
   "source": [
    "'Murat'+' '+'Altun'+' '+'124'"
   ]
  },
  {
   "cell_type": "code",
   "execution_count": 38,
   "id": "fe60d9f5",
   "metadata": {
    "collapsed": true
   },
   "outputs": [
    {
     "ename": "TypeError",
     "evalue": "unsupported operand type(s) for +: 'int' and 'str'",
     "output_type": "error",
     "traceback": [
      "\u001b[1;31m---------------------------------------------------------------------------\u001b[0m",
      "\u001b[1;31mTypeError\u001b[0m                                 Traceback (most recent call last)",
      "Cell \u001b[1;32mIn[38], line 1\u001b[0m\n\u001b[1;32m----> 1\u001b[0m \u001b[38;5;241m2\u001b[39m\u001b[38;5;241m+\u001b[39m\u001b[38;5;124m'\u001b[39m\u001b[38;5;124m2.5\u001b[39m\u001b[38;5;124m'\u001b[39m\n",
      "\u001b[1;31mTypeError\u001b[0m: unsupported operand type(s) for +: 'int' and 'str'"
     ]
    }
   ],
   "source": [
    "2+'2.5' # int ile string birleştirme hatası"
   ]
  },
  {
   "cell_type": "code",
   "execution_count": 40,
   "id": "9fa751d9",
   "metadata": {},
   "outputs": [
    {
     "name": "stdout",
     "output_type": "stream",
     "text": [
      "Murat\tMurat\tMurat\tMurat\tMurat\tMurat\tMurat\tMurat\tMurat\tMurat\tMurat\tMurat\tMurat\tMurat\tMurat\tMurat\tMurat\tMurat\tMurat\tMurat\tMurat\tMurat\tMurat\tMurat\tMurat\tMurat\tMurat\tMurat\tMurat\tMurat\tMurat\tMurat\tMurat\tMurat\tMurat\tMurat\tMurat\tMurat\tMurat\tMurat\tMurat\tMurat\tMurat\tMurat\tMurat\tMurat\tMurat\tMurat\tMurat\tMurat\tMurat\tMurat\tMurat\tMurat\tMurat\tMurat\tMurat\tMurat\tMurat\tMurat\tMurat\tMurat\tMurat\tMurat\tMurat\tMurat\tMurat\tMurat\tMurat\tMurat\tMurat\tMurat\tMurat\tMurat\tMurat\tMurat\tMurat\tMurat\tMurat\tMurat\tMurat\tMurat\tMurat\tMurat\tMurat\tMurat\tMurat\tMurat\tMurat\tMurat\tMurat\tMurat\tMurat\tMurat\tMurat\tMurat\tMurat\tMurat\tMurat\tMurat\tMurat\tMurat\tMurat\tMurat\tMurat\tMurat\tMurat\tMurat\tMurat\tMurat\tMurat\tMurat\tMurat\tMurat\tMurat\tMurat\tMurat\tMurat\tMurat\tMurat\tMurat\tMurat\tMurat\tMurat\t\n"
     ]
    }
   ],
   "source": [
    "print (124*'Murat\\t')"
   ]
  },
  {
   "cell_type": "code",
   "execution_count": 42,
   "id": "9ae4b447",
   "metadata": {},
   "outputs": [
    {
     "name": "stdout",
     "output_type": "stream",
     "text": [
      "P\ty\tt\th\to\tn\n"
     ]
    }
   ],
   "source": [
    "print(*'Python', sep='\\t')"
   ]
  },
  {
   "cell_type": "raw",
   "id": "215706c7",
   "metadata": {},
   "source": [
    "Python'da * operatörünün farklı veri türlerinde farklı işlevler görmesine \"operator overloading\" (operatör aşırı yükleme) denir. Operatör aşırı yükleme, bir operatörün farklı veri türlerine uygulanabilir olmasını ve her veri türü için farklı bir işlev görmesini sağlar."
   ]
  },
  {
   "cell_type": "markdown",
   "id": "e070c34a",
   "metadata": {},
   "source": [
    "### Veri Türleri"
   ]
  },
  {
   "cell_type": "code",
   "execution_count": 43,
   "id": "699b10f2",
   "metadata": {},
   "outputs": [
    {
     "name": "stdout",
     "output_type": "stream",
     "text": [
      "{1, 2, 3}\n"
     ]
    }
   ],
   "source": [
    "#değişken adları vs\n",
    "sayi=10 #int\n",
    "sayi='TechIstanbul' #str\n",
    "sayi=10.5 #float\n",
    "sayi=5+3j #complex\n",
    "sayi=True #bool\n",
    "sayi=None #none\n",
    "sayi=[1,2,3] #list\n",
    "sayi=(1,2,3) #tuple\n",
    "sayi={'a':1,'b':2,'c':3} #dict\n",
    "sayi={1,2,3} #set\n",
    "print(sayi)"
   ]
  },
  {
   "cell_type": "code",
   "execution_count": 126,
   "id": "b3735b1d",
   "metadata": {},
   "outputs": [
    {
     "name": "stdout",
     "output_type": "stream",
     "text": [
      "['False', 'None', 'True', 'and', 'as', 'assert', 'async', 'await', 'break', 'class', 'continue', 'def', 'del', 'elif', 'else', 'except', 'finally', 'for', 'from', 'global', 'if', 'import', 'in', 'is', 'lambda', 'nonlocal', 'not', 'or', 'pass', 'raise', 'return', 'try', 'while', 'with', 'yield']\n"
     ]
    }
   ],
   "source": [
    "import keyword\n",
    "print(keyword.kwlist) #değişken adı olarak kullnaılamaz"
   ]
  },
  {
   "cell_type": "code",
   "execution_count": 127,
   "id": "38a21d31",
   "metadata": {},
   "outputs": [],
   "source": [
    "#snake tipi değişken adlandırma \n",
    "sayi_1=10 # _ alt tire işareti\n",
    "sayi_2=20\n",
    "sayi_3=30"
   ]
  },
  {
   "cell_type": "markdown",
   "id": "6a752112",
   "metadata": {},
   "source": [
    "## Koşul ifadeleri"
   ]
  },
  {
   "cell_type": "code",
   "execution_count": 64,
   "id": "c0552d1c",
   "metadata": {},
   "outputs": [],
   "source": [
    "sayi=10 #atama operatörü"
   ]
  },
  {
   "cell_type": "code",
   "execution_count": 71,
   "id": "9a11bb1d",
   "metadata": {},
   "outputs": [
    {
     "name": "stdout",
     "output_type": "stream",
     "text": [
      "Gectiniz\n"
     ]
    }
   ],
   "source": [
    "vize=55 #%40 etkilesin\n",
    "final=55 #%60 etkilesin\n",
    "gecme_puani=55\n",
    "ortalama=(vize*.4)+(final*.6)\n",
    "if ortalama>=gecme_puani:print('Gectiniz')\n",
    "else:print('Kaldınız')"
   ]
  },
  {
   "cell_type": "code",
   "execution_count": 56,
   "id": "1abe8ed0",
   "metadata": {},
   "outputs": [
    {
     "data": {
      "text/plain": [
       "True"
      ]
     },
     "execution_count": 56,
     "metadata": {},
     "output_type": "execute_result"
    }
   ],
   "source": [
    "True if ortalama>=gecme_puani else False"
   ]
  },
  {
   "cell_type": "code",
   "execution_count": 72,
   "id": "e6dfc18f",
   "metadata": {},
   "outputs": [
    {
     "name": "stdout",
     "output_type": "stream",
     "text": [
      "Tam sınırda\n"
     ]
    }
   ],
   "source": [
    "if ortalama>gecme_puani:\n",
    "    print('Gectiniz')\n",
    "else:\n",
    "    if ortalama==gecme_puani:\n",
    "        print('Tam sınırda')\n",
    "    else:print(\"Kaldınız\")"
   ]
  },
  {
   "cell_type": "markdown",
   "id": "d58743e1",
   "metadata": {},
   "source": [
    "### Fonksiyon hakkında bilgi ve yardım"
   ]
  },
  {
   "cell_type": "code",
   "execution_count": 59,
   "id": "e71fd210",
   "metadata": {},
   "outputs": [
    {
     "data": {
      "text/plain": [
       "<function print(*args, sep=' ', end='\\n', file=None, flush=False)>"
      ]
     },
     "execution_count": 59,
     "metadata": {},
     "output_type": "execute_result"
    }
   ],
   "source": [
    "#Fonksiyonun kendini verir\n",
    "print"
   ]
  },
  {
   "cell_type": "code",
   "execution_count": 60,
   "id": "2d0cd7f1",
   "metadata": {
    "collapsed": true
   },
   "outputs": [
    {
     "name": "stdout",
     "output_type": "stream",
     "text": [
      "Help on built-in function print in module builtins:\n",
      "\n",
      "print(*args, sep=' ', end='\\n', file=None, flush=False)\n",
      "    Prints the values to a stream, or to sys.stdout by default.\n",
      "    \n",
      "    sep\n",
      "      string inserted between values, default a space.\n",
      "    end\n",
      "      string appended after the last value, default a newline.\n",
      "    file\n",
      "      a file-like object (stream); defaults to the current sys.stdout.\n",
      "    flush\n",
      "      whether to forcibly flush the stream.\n",
      "\n"
     ]
    }
   ],
   "source": [
    "help(print)"
   ]
  },
  {
   "cell_type": "code",
   "execution_count": 61,
   "id": "54fd178b",
   "metadata": {},
   "outputs": [
    {
     "name": "stdout",
     "output_type": "stream",
     "text": [
      "Merhaba\n",
      "TechIstanbul\n"
     ]
    }
   ],
   "source": [
    "    print('Merhaba');print('TechIstanbul') #; ile birden fazla satır yazılabilir"
   ]
  },
  {
   "cell_type": "code",
   "execution_count": 62,
   "id": "1664c0ed",
   "metadata": {},
   "outputs": [],
   "source": [
    "sayi=int()"
   ]
  },
  {
   "cell_type": "code",
   "execution_count": 63,
   "id": "6044ab24",
   "metadata": {},
   "outputs": [
    {
     "data": {
      "text/plain": [
       "0"
      ]
     },
     "execution_count": 63,
     "metadata": {},
     "output_type": "execute_result"
    }
   ],
   "source": [
    "sayi"
   ]
  },
  {
   "cell_type": "markdown",
   "id": "c4cf23a4",
   "metadata": {},
   "source": [
    "### Karakter dizileri dilimleme ve str metotları"
   ]
  },
  {
   "cell_type": "code",
   "execution_count": 66,
   "id": "3990f8a8",
   "metadata": {},
   "outputs": [
    {
     "data": {
      "text/plain": [
       "'Tech'"
      ]
     },
     "execution_count": 66,
     "metadata": {},
     "output_type": "execute_result"
    }
   ],
   "source": [
    "ad='TechIstanbul'\n",
    "ad[0:4] #ilk 4 karakteri al"
   ]
  },
  {
   "cell_type": "code",
   "execution_count": 68,
   "id": "79d12c1c",
   "metadata": {},
   "outputs": [
    {
     "data": {
      "text/plain": [
       "'l'"
      ]
     },
     "execution_count": 68,
     "metadata": {},
     "output_type": "execute_result"
    }
   ],
   "source": [
    "ad[-1]#sondan 1."
   ]
  },
  {
   "cell_type": "code",
   "execution_count": 73,
   "id": "3275f261",
   "metadata": {},
   "outputs": [
    {
     "data": {
      "text/plain": [
       "'TechIstanbu'"
      ]
     },
     "execution_count": 73,
     "metadata": {},
     "output_type": "execute_result"
    }
   ],
   "source": [
    "ad[:-1] #sondan birinciye kadar"
   ]
  },
  {
   "cell_type": "code",
   "execution_count": 74,
   "id": "d5367570",
   "metadata": {},
   "outputs": [
    {
     "data": {
      "text/plain": [
       "'TechIstanb'"
      ]
     },
     "execution_count": 74,
     "metadata": {},
     "output_type": "execute_result"
    }
   ],
   "source": [
    "ad[:-2] "
   ]
  },
  {
   "cell_type": "code",
   "execution_count": 76,
   "id": "a33ff3df",
   "metadata": {},
   "outputs": [
    {
     "data": {
      "text/plain": [
       "'TcItnu'"
      ]
     },
     "execution_count": 76,
     "metadata": {},
     "output_type": "execute_result"
    }
   ],
   "source": [
    "ad[::2]"
   ]
  },
  {
   "cell_type": "code",
   "execution_count": 77,
   "id": "29943f4d",
   "metadata": {},
   "outputs": [
    {
     "data": {
      "text/plain": [
       "'lubnatsIhceT'"
      ]
     },
     "execution_count": 77,
     "metadata": {},
     "output_type": "execute_result"
    }
   ],
   "source": [
    "ad[::-1]#metni tersine çevir"
   ]
  },
  {
   "cell_type": "code",
   "execution_count": 80,
   "id": "823c8f28",
   "metadata": {},
   "outputs": [
    {
     "data": {
      "text/plain": [
       "'MURAT'"
      ]
     },
     "execution_count": 80,
     "metadata": {},
     "output_type": "execute_result"
    }
   ],
   "source": [
    "\"Murat\".upper() #tamamını büyük harf"
   ]
  },
  {
   "cell_type": "code",
   "execution_count": 81,
   "id": "4be17ba1",
   "metadata": {},
   "outputs": [
    {
     "data": {
      "text/plain": [
       "'murat'"
      ]
     },
     "execution_count": 81,
     "metadata": {},
     "output_type": "execute_result"
    }
   ],
   "source": [
    "\"Murat\".lower() #tamamını kuçük harf"
   ]
  },
  {
   "cell_type": "code",
   "execution_count": 83,
   "id": "83f99573",
   "metadata": {},
   "outputs": [
    {
     "data": {
      "text/plain": [
       "'Murat altun'"
      ]
     },
     "execution_count": 83,
     "metadata": {},
     "output_type": "execute_result"
    }
   ],
   "source": [
    "\"murat altun\".capitalize() #ilk harfi büyük harf yapar"
   ]
  },
  {
   "cell_type": "code",
   "execution_count": 84,
   "id": "db1e1b22",
   "metadata": {},
   "outputs": [
    {
     "data": {
      "text/plain": [
       "'Murat Altun'"
      ]
     },
     "execution_count": 84,
     "metadata": {},
     "output_type": "execute_result"
    }
   ],
   "source": [
    "\"murat altun\".title() #her kelimenin ilk harfini baş harf yapar"
   ]
  },
  {
   "cell_type": "code",
   "execution_count": 86,
   "id": "4be2ecf7",
   "metadata": {},
   "outputs": [
    {
     "data": {
      "text/plain": [
       "['murat', 'altun']"
      ]
     },
     "execution_count": 86,
     "metadata": {},
     "output_type": "execute_result"
    }
   ],
   "source": [
    "\"murat altun\".split() #metni boşluklara ayırır ve listeye çevirir"
   ]
  },
  {
   "cell_type": "code",
   "execution_count": 87,
   "id": "ebd4dbcc",
   "metadata": {},
   "outputs": [
    {
     "data": {
      "text/plain": [
       "['ocak', 'şubat', 'mart']"
      ]
     },
     "execution_count": 87,
     "metadata": {},
     "output_type": "execute_result"
    }
   ],
   "source": [
    "\"ocak-şubat-mart\".split('-')"
   ]
  },
  {
   "cell_type": "markdown",
   "id": "003dfcdb",
   "metadata": {},
   "source": [
    "### Döngüler"
   ]
  },
  {
   "cell_type": "code",
   "execution_count": 88,
   "id": "94a59060",
   "metadata": {
    "collapsed": true
   },
   "outputs": [
    {
     "name": "stdout",
     "output_type": "stream",
     "text": [
      "0\n",
      "1\n",
      "2\n",
      "3\n",
      "4\n",
      "5\n",
      "6\n",
      "7\n",
      "8\n",
      "9\n"
     ]
    }
   ],
   "source": [
    "#while\n",
    "i=0\n",
    "while i<10:\n",
    "    print(i)\n",
    "    i+=1\n",
    "#döngü dışı devam"
   ]
  },
  {
   "cell_type": "code",
   "execution_count": 89,
   "id": "0f6e0e80",
   "metadata": {
    "collapsed": true
   },
   "outputs": [
    {
     "name": "stdout",
     "output_type": "stream",
     "text": [
      "0\n",
      "1\n",
      "2\n",
      "3\n",
      "4\n",
      "5\n",
      "6\n",
      "7\n",
      "8\n",
      "9\n"
     ]
    }
   ],
   "source": [
    "#for\n",
    "for i in range(10):\n",
    "    print(i)"
   ]
  },
  {
   "cell_type": "code",
   "execution_count": 90,
   "id": "4dce88e2",
   "metadata": {},
   "outputs": [],
   "source": [
    "sayi_listesi=[1,2,3,4,5,6,7,8,9,10]"
   ]
  },
  {
   "cell_type": "code",
   "execution_count": 93,
   "id": "313c81c0",
   "metadata": {},
   "outputs": [
    {
     "name": "stdout",
     "output_type": "stream",
     "text": [
      "5\n",
      "10\n",
      "Döngü dışı, Normal akış\n"
     ]
    }
   ],
   "source": [
    "for sayi in sayi_listesi:\n",
    "    if sayi%5==0:\n",
    "        print(sayi)\n",
    "print('Döngü dışı, Normal akış')"
   ]
  },
  {
   "cell_type": "code",
   "execution_count": 97,
   "id": "4b2dc90d",
   "metadata": {
    "collapsed": true
   },
   "outputs": [
    {
     "name": "stdout",
     "output_type": "stream",
     "text": [
      "1\t2\t3\t4\t5\t6\t7\t8\t9\t10\t11\t12\t13\t14\t15\t16\t17\t18\t19\t20\t21\t22\t23\t24\t25\t26\t27\t28\t29\t30\t31\t32\t33\t34\t35\t36\t37\t38\t39\t40\t41\t42\t43\t44\t45\t46\t47\t48\t49\t50\t51\t52\t53\t54\t55\t56\t57\t58\t59\t60\t61\t62\t63\t64\t65\t66\t67\t68\t69\t70\t71\t72\t73\t74\t75\t76\t77\t78\t79\t80\t81\t82\t83\t84\t85\t86\t87\t88\t89\t90\t91\t92\t93\t94\t95\t96\t97\t98\t99\t100\n"
     ]
    }
   ],
   "source": [
    "sayi_listesi=list(range(1,101,1))\n",
    "print(*sayi_listesi, sep='\\t')"
   ]
  },
  {
   "cell_type": "code",
   "execution_count": 98,
   "id": "2c750e93",
   "metadata": {
    "collapsed": true
   },
   "outputs": [
    {
     "name": "stdout",
     "output_type": "stream",
     "text": [
      "1\t2\t3\t4\t5\t6\t7\t8\t9\t10\t11\t12\t13\t14\t15\t16\t17\t18\t19\t20\t21\t22\t23\t24\t25\t26\t27\t28\t29\t30\t31\t32\t33\t34\t35\t36\t37\t38\t39\t40\t41\t42\t43\t44\t45\t46\t47\t48\t49\t50\t51\t52\t53\t54\t55\t56\t57\t58\t59\t60\t61\t62\t63\t64\t65\t66\t67\t68\t69\t70\t71\t72\t73\t74\t75\t76\t77\t78\t79\t80\t81\t82\t83\t84\t85\t86\t87\t88\t89\t90\t91\t92\t93\t94\t95\t96\t97\t98\t99\t100\n"
     ]
    }
   ],
   "source": [
    "print(*list(range(1,101,1)), sep='\\t')"
   ]
  },
  {
   "cell_type": "code",
   "execution_count": 100,
   "id": "67d9ba3d",
   "metadata": {
    "collapsed": true
   },
   "outputs": [
    {
     "name": "stdout",
     "output_type": "stream",
     "text": [
      "[1, 2, 3, 4, 5, 6, 7, 8, 9, 10, 11, 12, 13, 14, 15, 16, 17, 18, 19, 20, 21, 22, 23, 24, 25, 26, 27, 28, 29, 30, 31, 32, 33, 34, 35, 36, 37, 38, 39, 40, 41, 42, 43, 44, 45, 46, 47, 48, 49, 50, 51, 52, 53, 54, 55, 56, 57, 58, 59, 60, 61, 62, 63, 64, 65, 66, 67, 68, 69, 70, 71, 72, 73, 74, 75, 76, 77, 78, 79, 80, 81, 82, 83, 84, 85, 86, 87, 88, 89, 90, 91, 92, 93, 94, 95, 96, 97, 98, 99, 100]\n"
     ]
    }
   ],
   "source": [
    "print(list(range(1,101,1)))"
   ]
  },
  {
   "cell_type": "markdown",
   "id": "f9a52b64",
   "metadata": {},
   "source": [
    "### List Comprehensions"
   ]
  },
  {
   "cell_type": "code",
   "execution_count": 102,
   "id": "36f128f5",
   "metadata": {
    "collapsed": true
   },
   "outputs": [
    {
     "data": {
      "text/plain": [
       "[25,\n",
       " 100,\n",
       " 225,\n",
       " 400,\n",
       " 625,\n",
       " 900,\n",
       " 1225,\n",
       " 1600,\n",
       " 2025,\n",
       " 2500,\n",
       " 3025,\n",
       " 3600,\n",
       " 4225,\n",
       " 4900,\n",
       " 5625,\n",
       " 6400,\n",
       " 7225,\n",
       " 8100,\n",
       " 9025,\n",
       " 10000]"
      ]
     },
     "execution_count": 102,
     "metadata": {},
     "output_type": "execute_result"
    }
   ],
   "source": [
    "[sayi**2 for sayi in sayi_listesi if sayi%5==0]"
   ]
  },
  {
   "cell_type": "code",
   "execution_count": 103,
   "id": "f9897a55",
   "metadata": {},
   "outputs": [
    {
     "data": {
      "text/plain": [
       "25"
      ]
     },
     "execution_count": 103,
     "metadata": {},
     "output_type": "execute_result"
    }
   ],
   "source": [
    "#lambda tek satırlık fonksiyon\n",
    "(lambda x:x**2)(5)"
   ]
  },
  {
   "cell_type": "code",
   "execution_count": 128,
   "id": "626db2d0",
   "metadata": {
    "collapsed": true
   },
   "outputs": [
    {
     "name": "stdout",
     "output_type": "stream",
     "text": [
      "1\n",
      "4\n",
      "9\n",
      "16\n",
      "25\n"
     ]
    }
   ],
   "source": [
    "def kare_al(x):\n",
    "    return x**2\n",
    "sayilar=[1,2,3,4,5]\n",
    "for i in sayilar:\n",
    "    print(kare_al(i))"
   ]
  },
  {
   "cell_type": "code",
   "execution_count": 129,
   "id": "f08fd304",
   "metadata": {},
   "outputs": [
    {
     "data": {
      "text/plain": [
       "[1, 4, 9, 16, 25]"
      ]
     },
     "execution_count": 129,
     "metadata": {},
     "output_type": "execute_result"
    }
   ],
   "source": [
    "kareleri=map(kare_al, sayilar) #verilen fonksiyonu verilen listeye maple\n",
    "list(kareleri)"
   ]
  },
  {
   "cell_type": "code",
   "execution_count": 131,
   "id": "00b83055",
   "metadata": {},
   "outputs": [
    {
     "data": {
      "text/plain": [
       "[1, 4, 9, 16, 25]"
      ]
     },
     "execution_count": 131,
     "metadata": {},
     "output_type": "execute_result"
    }
   ],
   "source": [
    "kareleri2=map(lambda x:x**2, sayilar)#tanımlanmış fonksiyon adı yerine tek satırlık fonkisyonu olıuşturalım\n",
    "list(kareleri2)"
   ]
  },
  {
   "cell_type": "code",
   "execution_count": 134,
   "id": "38a58c92",
   "metadata": {},
   "outputs": [],
   "source": [
    "def ikinin_kati(sayi):\n",
    "    if sayi%2==0:\n",
    "        return True\n",
    "    else:False\n"
   ]
  },
  {
   "cell_type": "markdown",
   "id": "b3c9a0e7",
   "metadata": {},
   "source": [
    "### Filter tanımlama"
   ]
  },
  {
   "cell_type": "code",
   "execution_count": 118,
   "id": "d42bfe3c",
   "metadata": {},
   "outputs": [],
   "source": [
    "def kare_al(x):\n",
    "    return x**2"
   ]
  },
  {
   "cell_type": "code",
   "execution_count": 136,
   "id": "06040eca",
   "metadata": {},
   "outputs": [
    {
     "data": {
      "text/plain": [
       "[2, 4]"
      ]
     },
     "execution_count": 136,
     "metadata": {},
     "output_type": "execute_result"
    }
   ],
   "source": [
    "sayi_listeis=[1,2,3,4,5]\n",
    "list(filter(ikinin_kati, sayi_listeis))"
   ]
  },
  {
   "cell_type": "code",
   "execution_count": 119,
   "id": "af228938",
   "metadata": {},
   "outputs": [
    {
     "data": {
      "text/plain": [
       "25"
      ]
     },
     "execution_count": 119,
     "metadata": {},
     "output_type": "execute_result"
    }
   ],
   "source": [
    "kare_al(5)"
   ]
  },
  {
   "cell_type": "code",
   "execution_count": 120,
   "id": "5bd7deff",
   "metadata": {},
   "outputs": [],
   "source": [
    "def kare_al(x=5):\n",
    "    return x**2"
   ]
  },
  {
   "cell_type": "code",
   "execution_count": 121,
   "id": "c4c36f37",
   "metadata": {},
   "outputs": [
    {
     "data": {
      "text/plain": [
       "25"
      ]
     },
     "execution_count": 121,
     "metadata": {},
     "output_type": "execute_result"
    }
   ],
   "source": [
    "kare_al() #fonksiyona değer vermezseniz varsayılan değeri kullaır"
   ]
  },
  {
   "cell_type": "code",
   "execution_count": 122,
   "id": "1eef7c5b",
   "metadata": {},
   "outputs": [
    {
     "name": "stdout",
     "output_type": "stream",
     "text": [
      "Merhaba TechIstanbul Python\n"
     ]
    }
   ],
   "source": [
    "print('Merhaba', 'TechIstanbul', 'Python')"
   ]
  },
  {
   "cell_type": "code",
   "execution_count": 124,
   "id": "b0da2fe8",
   "metadata": {},
   "outputs": [
    {
     "name": "stdout",
     "output_type": "stream",
     "text": [
      "Merhaba*TechIstanbul*Python\n"
     ]
    }
   ],
   "source": [
    "print('Merhaba', 'TechIstanbul', 'Python',sep='*')"
   ]
  },
  {
   "cell_type": "code",
   "execution_count": null,
   "id": "d76bdbf1",
   "metadata": {},
   "outputs": [],
   "source": []
  }
 ],
 "metadata": {
  "kernelspec": {
   "display_name": "Python 3 (ipykernel)",
   "language": "python",
   "name": "python3"
  },
  "language_info": {
   "codemirror_mode": {
    "name": "ipython",
    "version": 3
   },
   "file_extension": ".py",
   "mimetype": "text/x-python",
   "name": "python",
   "nbconvert_exporter": "python",
   "pygments_lexer": "ipython3",
   "version": "3.11.5"
  }
 },
 "nbformat": 4,
 "nbformat_minor": 5
}
