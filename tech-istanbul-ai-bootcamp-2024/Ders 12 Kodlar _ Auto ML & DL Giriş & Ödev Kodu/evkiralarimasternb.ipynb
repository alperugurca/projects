{
 "cells": [
  {
   "cell_type": "markdown",
   "id": "50e29c6f",
   "metadata": {
    "papermill": {
     "duration": 0.005354,
     "end_time": "2024-06-23T09:56:45.596447",
     "exception": false,
     "start_time": "2024-06-23T09:56:45.591093",
     "status": "completed"
    },
    "tags": []
   },
   "source": [
    "Bu çalışmada [antalya_kiralik_ev.csv](https://www.kaggle.com/antalyakiralyontem/antalya-kiralik-ev) verisi kullanılmıştır. Veri manipülasyonu, veri görselleştirme ve veri analizi yapmak için [pandas](https://pandas.pydata.org/) ve [seaborn](https://seaborn.pydata.org/) kütüphanelerini kullanılarak yapılmıştır."
   ]
  },
  {
   "cell_type": "markdown",
   "id": "5e85bc9d",
   "metadata": {
    "papermill": {
     "duration": 0.004196,
     "end_time": "2024-06-23T09:56:45.605750",
     "exception": false,
     "start_time": "2024-06-23T09:56:45.601554",
     "status": "completed"
    },
    "tags": []
   },
   "source": [
    "## Kütüphaneleri Yükle ##"
   ]
  },
  {
   "cell_type": "code",
   "execution_count": 1,
   "id": "ffe20e25",
   "metadata": {
    "execution": {
     "iopub.execute_input": "2024-06-23T09:56:45.617015Z",
     "iopub.status.busy": "2024-06-23T09:56:45.615846Z",
     "iopub.status.idle": "2024-06-23T09:56:47.751624Z",
     "shell.execute_reply": "2024-06-23T09:56:47.750740Z"
    },
    "papermill": {
     "duration": 2.144136,
     "end_time": "2024-06-23T09:56:47.754244",
     "exception": false,
     "start_time": "2024-06-23T09:56:45.610108",
     "status": "completed"
    },
    "tags": []
   },
   "outputs": [],
   "source": [
    "import numpy as np\n",
    "import pandas as pd\n",
    "import matplotlib.pyplot as plt\n",
    "import seaborn as sns\n",
    "import warnings\n",
    "warnings.filterwarnings(\"ignore\")"
   ]
  },
  {
   "cell_type": "markdown",
   "id": "08ec6b35",
   "metadata": {
    "papermill": {
     "duration": 0.004374,
     "end_time": "2024-06-23T09:56:47.763777",
     "exception": false,
     "start_time": "2024-06-23T09:56:47.759403",
     "status": "completed"
    },
    "tags": []
   },
   "source": [
    "## Veri Setini Yükle ##"
   ]
  },
  {
   "cell_type": "code",
   "execution_count": 2,
   "id": "0015f7c5",
   "metadata": {
    "execution": {
     "iopub.execute_input": "2024-06-23T09:56:47.774421Z",
     "iopub.status.busy": "2024-06-23T09:56:47.773939Z",
     "iopub.status.idle": "2024-06-23T09:56:47.801966Z",
     "shell.execute_reply": "2024-06-23T09:56:47.800872Z"
    },
    "papermill": {
     "duration": 0.036288,
     "end_time": "2024-06-23T09:56:47.804535",
     "exception": false,
     "start_time": "2024-06-23T09:56:47.768247",
     "status": "completed"
    },
    "tags": []
   },
   "outputs": [],
   "source": [
    "df=pd.read_csv(\"/kaggle/input/antalya-muratpaa-daire-kira-cretleri-2024-ocak/antalya_kiralik_ev.csv\")"
   ]
  },
  {
   "cell_type": "markdown",
   "id": "f6c1525d",
   "metadata": {
    "papermill": {
     "duration": 0.004196,
     "end_time": "2024-06-23T09:56:47.813452",
     "exception": false,
     "start_time": "2024-06-23T09:56:47.809256",
     "status": "completed"
    },
    "tags": []
   },
   "source": [
    "## Keşifsel Veri Analizi ##"
   ]
  },
  {
   "cell_type": "code",
   "execution_count": 3,
   "id": "bc599574",
   "metadata": {
    "execution": {
     "iopub.execute_input": "2024-06-23T09:56:47.824490Z",
     "iopub.status.busy": "2024-06-23T09:56:47.823508Z",
     "iopub.status.idle": "2024-06-23T09:56:47.856071Z",
     "shell.execute_reply": "2024-06-23T09:56:47.855009Z"
    },
    "papermill": {
     "duration": 0.040375,
     "end_time": "2024-06-23T09:56:47.858203",
     "exception": false,
     "start_time": "2024-06-23T09:56:47.817828",
     "status": "completed"
    },
    "tags": []
   },
   "outputs": [
    {
     "data": {
      "text/html": [
       "<div>\n",
       "<style scoped>\n",
       "    .dataframe tbody tr th:only-of-type {\n",
       "        vertical-align: middle;\n",
       "    }\n",
       "\n",
       "    .dataframe tbody tr th {\n",
       "        vertical-align: top;\n",
       "    }\n",
       "\n",
       "    .dataframe thead th {\n",
       "        text-align: right;\n",
       "    }\n",
       "</style>\n",
       "<table border=\"1\" class=\"dataframe\">\n",
       "  <thead>\n",
       "    <tr style=\"text-align: right;\">\n",
       "      <th></th>\n",
       "      <th>Unnamed: 0</th>\n",
       "      <th>mahalle</th>\n",
       "      <th>fiyat</th>\n",
       "      <th>brut_alan_m2</th>\n",
       "      <th>net_alan_m2</th>\n",
       "      <th>oda_sayisi</th>\n",
       "      <th>bina_yas</th>\n",
       "      <th>dairenin_bulundugu_kat</th>\n",
       "      <th>bina_kat_sayisi</th>\n",
       "      <th>isitma_turu</th>\n",
       "      <th>banyo_sayisi</th>\n",
       "      <th>balkon</th>\n",
       "      <th>asansor</th>\n",
       "      <th>otopark</th>\n",
       "      <th>esya_durumu</th>\n",
       "      <th>site_icinde</th>\n",
       "      <th>aidat</th>\n",
       "      <th>depozito</th>\n",
       "      <th>sahibi</th>\n",
       "    </tr>\n",
       "  </thead>\n",
       "  <tbody>\n",
       "    <tr>\n",
       "      <th>0</th>\n",
       "      <td>1</td>\n",
       "      <td>Bayındır Mh.</td>\n",
       "      <td>15000.0</td>\n",
       "      <td>90.0</td>\n",
       "      <td>80.0</td>\n",
       "      <td>2+1</td>\n",
       "      <td>21-25 arası</td>\n",
       "      <td>Giriş Katı</td>\n",
       "      <td>4.0</td>\n",
       "      <td>Klima</td>\n",
       "      <td>1.0</td>\n",
       "      <td>0</td>\n",
       "      <td>0</td>\n",
       "      <td>Açık Otopark</td>\n",
       "      <td>1</td>\n",
       "      <td>0</td>\n",
       "      <td>100</td>\n",
       "      <td>15000</td>\n",
       "      <td>0</td>\n",
       "    </tr>\n",
       "    <tr>\n",
       "      <th>1</th>\n",
       "      <td>2</td>\n",
       "      <td>Çaybaşı Mh.</td>\n",
       "      <td>29000.0</td>\n",
       "      <td>145.0</td>\n",
       "      <td>135.0</td>\n",
       "      <td>3+1</td>\n",
       "      <td>0</td>\n",
       "      <td>1</td>\n",
       "      <td>5.0</td>\n",
       "      <td>Kombi (Doğalgaz)</td>\n",
       "      <td>1.0</td>\n",
       "      <td>1</td>\n",
       "      <td>1</td>\n",
       "      <td>Kapalı Otopark</td>\n",
       "      <td>0</td>\n",
       "      <td>1</td>\n",
       "      <td>1500</td>\n",
       "      <td>30000</td>\n",
       "      <td>0</td>\n",
       "    </tr>\n",
       "    <tr>\n",
       "      <th>2</th>\n",
       "      <td>3</td>\n",
       "      <td>Güzeloba Mh.</td>\n",
       "      <td>24750.0</td>\n",
       "      <td>145.0</td>\n",
       "      <td>130.0</td>\n",
       "      <td>3+1</td>\n",
       "      <td>11-15 arası</td>\n",
       "      <td>3</td>\n",
       "      <td>4.0</td>\n",
       "      <td>Klima</td>\n",
       "      <td>1.0</td>\n",
       "      <td>1</td>\n",
       "      <td>0</td>\n",
       "      <td>Açık Otopark</td>\n",
       "      <td>0</td>\n",
       "      <td>0</td>\n",
       "      <td>500</td>\n",
       "      <td>25000</td>\n",
       "      <td>1</td>\n",
       "    </tr>\n",
       "    <tr>\n",
       "      <th>3</th>\n",
       "      <td>4</td>\n",
       "      <td>Şirinyalı Mh.</td>\n",
       "      <td>30000.0</td>\n",
       "      <td>230.0</td>\n",
       "      <td>200.0</td>\n",
       "      <td>3+1</td>\n",
       "      <td>5-10 arası</td>\n",
       "      <td>2</td>\n",
       "      <td>3.0</td>\n",
       "      <td>Doğalgaz Sobası</td>\n",
       "      <td>2.0</td>\n",
       "      <td>0</td>\n",
       "      <td>0</td>\n",
       "      <td>Açık Otopark</td>\n",
       "      <td>1</td>\n",
       "      <td>0</td>\n",
       "      <td>0</td>\n",
       "      <td>30000</td>\n",
       "      <td>0</td>\n",
       "    </tr>\n",
       "    <tr>\n",
       "      <th>4</th>\n",
       "      <td>5</td>\n",
       "      <td>Çağlayan Mh.</td>\n",
       "      <td>37500.0</td>\n",
       "      <td>320.0</td>\n",
       "      <td>300.0</td>\n",
       "      <td>4+2</td>\n",
       "      <td>16-20 arası</td>\n",
       "      <td>8</td>\n",
       "      <td>8.0</td>\n",
       "      <td>Klima</td>\n",
       "      <td>3.0</td>\n",
       "      <td>1</td>\n",
       "      <td>1</td>\n",
       "      <td>Açık Otopark</td>\n",
       "      <td>0</td>\n",
       "      <td>1</td>\n",
       "      <td>0</td>\n",
       "      <td>37500</td>\n",
       "      <td>0</td>\n",
       "    </tr>\n",
       "  </tbody>\n",
       "</table>\n",
       "</div>"
      ],
      "text/plain": [
       "   Unnamed: 0        mahalle    fiyat  brut_alan_m2  net_alan_m2 oda_sayisi  \\\n",
       "0           1   Bayındır Mh.  15000.0          90.0         80.0        2+1   \n",
       "1           2    Çaybaşı Mh.  29000.0         145.0        135.0        3+1   \n",
       "2           3   Güzeloba Mh.  24750.0         145.0        130.0        3+1   \n",
       "3           4  Şirinyalı Mh.  30000.0         230.0        200.0        3+1   \n",
       "4           5   Çağlayan Mh.  37500.0         320.0        300.0        4+2   \n",
       "\n",
       "      bina_yas dairenin_bulundugu_kat  bina_kat_sayisi       isitma_turu  \\\n",
       "0  21-25 arası             Giriş Katı              4.0             Klima   \n",
       "1            0                      1              5.0  Kombi (Doğalgaz)   \n",
       "2  11-15 arası                      3              4.0             Klima   \n",
       "3   5-10 arası                      2              3.0   Doğalgaz Sobası   \n",
       "4  16-20 arası                      8              8.0             Klima   \n",
       "\n",
       "   banyo_sayisi  balkon  asansor         otopark  esya_durumu  site_icinde  \\\n",
       "0           1.0       0        0    Açık Otopark            1            0   \n",
       "1           1.0       1        1  Kapalı Otopark            0            1   \n",
       "2           1.0       1        0    Açık Otopark            0            0   \n",
       "3           2.0       0        0    Açık Otopark            1            0   \n",
       "4           3.0       1        1    Açık Otopark            0            1   \n",
       "\n",
       "   aidat  depozito  sahibi  \n",
       "0    100     15000       0  \n",
       "1   1500     30000       0  \n",
       "2    500     25000       1  \n",
       "3      0     30000       0  \n",
       "4      0     37500       0  "
      ]
     },
     "execution_count": 3,
     "metadata": {},
     "output_type": "execute_result"
    }
   ],
   "source": [
    "df.head()"
   ]
  },
  {
   "cell_type": "markdown",
   "id": "dc8a7edd",
   "metadata": {
    "papermill": {
     "duration": 0.004672,
     "end_time": "2024-06-23T09:56:47.867903",
     "exception": false,
     "start_time": "2024-06-23T09:56:47.863231",
     "status": "completed"
    },
    "tags": []
   },
   "source": [
    "## Unnamed: 0 Kolonunu Sil ##"
   ]
  },
  {
   "cell_type": "code",
   "execution_count": 4,
   "id": "4acc2c90",
   "metadata": {
    "execution": {
     "iopub.execute_input": "2024-06-23T09:56:47.879184Z",
     "iopub.status.busy": "2024-06-23T09:56:47.878820Z",
     "iopub.status.idle": "2024-06-23T09:56:47.889644Z",
     "shell.execute_reply": "2024-06-23T09:56:47.888583Z"
    },
    "papermill": {
     "duration": 0.019046,
     "end_time": "2024-06-23T09:56:47.891777",
     "exception": false,
     "start_time": "2024-06-23T09:56:47.872731",
     "status": "completed"
    },
    "tags": []
   },
   "outputs": [],
   "source": [
    "df.drop(\"Unnamed: 0\",axis=1,inplace=True)"
   ]
  },
  {
   "cell_type": "code",
   "execution_count": 5,
   "id": "89197962",
   "metadata": {
    "execution": {
     "iopub.execute_input": "2024-06-23T09:56:47.903984Z",
     "iopub.status.busy": "2024-06-23T09:56:47.903113Z",
     "iopub.status.idle": "2024-06-23T09:56:47.925928Z",
     "shell.execute_reply": "2024-06-23T09:56:47.924950Z"
    },
    "papermill": {
     "duration": 0.031772,
     "end_time": "2024-06-23T09:56:47.928559",
     "exception": false,
     "start_time": "2024-06-23T09:56:47.896787",
     "status": "completed"
    },
    "tags": []
   },
   "outputs": [
    {
     "name": "stdout",
     "output_type": "stream",
     "text": [
      "<class 'pandas.core.frame.DataFrame'>\n",
      "RangeIndex: 750 entries, 0 to 749\n",
      "Data columns (total 18 columns):\n",
      " #   Column                  Non-Null Count  Dtype  \n",
      "---  ------                  --------------  -----  \n",
      " 0   mahalle                 750 non-null    object \n",
      " 1   fiyat                   750 non-null    float64\n",
      " 2   brut_alan_m2            750 non-null    float64\n",
      " 3   net_alan_m2             750 non-null    float64\n",
      " 4   oda_sayisi              750 non-null    object \n",
      " 5   bina_yas                750 non-null    object \n",
      " 6   dairenin_bulundugu_kat  750 non-null    object \n",
      " 7   bina_kat_sayisi         750 non-null    float64\n",
      " 8   isitma_turu             750 non-null    object \n",
      " 9   banyo_sayisi            750 non-null    float64\n",
      " 10  balkon                  750 non-null    int64  \n",
      " 11  asansor                 750 non-null    int64  \n",
      " 12  otopark                 750 non-null    object \n",
      " 13  esya_durumu             750 non-null    int64  \n",
      " 14  site_icinde             750 non-null    int64  \n",
      " 15  aidat                   750 non-null    int64  \n",
      " 16  depozito                750 non-null    int64  \n",
      " 17  sahibi                  750 non-null    int64  \n",
      "dtypes: float64(5), int64(7), object(6)\n",
      "memory usage: 105.6+ KB\n"
     ]
    }
   ],
   "source": [
    "df.info()"
   ]
  },
  {
   "cell_type": "markdown",
   "id": "6860bb38",
   "metadata": {
    "papermill": {
     "duration": 0.004693,
     "end_time": "2024-06-23T09:56:47.938348",
     "exception": false,
     "start_time": "2024-06-23T09:56:47.933655",
     "status": "completed"
    },
    "tags": []
   },
   "source": [
    "## Veri Görselleştirme ##"
   ]
  },
  {
   "cell_type": "code",
   "execution_count": 6,
   "id": "7a74a0f7",
   "metadata": {
    "execution": {
     "iopub.execute_input": "2024-06-23T09:56:47.950293Z",
     "iopub.status.busy": "2024-06-23T09:56:47.949955Z",
     "iopub.status.idle": "2024-06-23T09:56:47.959658Z",
     "shell.execute_reply": "2024-06-23T09:56:47.958715Z"
    },
    "papermill": {
     "duration": 0.018684,
     "end_time": "2024-06-23T09:56:47.962279",
     "exception": false,
     "start_time": "2024-06-23T09:56:47.943595",
     "status": "completed"
    },
    "tags": []
   },
   "outputs": [
    {
     "data": {
      "text/plain": [
       "mahalle\n",
       "Güzeloba Mh.        0.217333\n",
       "Çağlayan Mh.        0.086667\n",
       "Fener Mah.          0.056000\n",
       "Şirinyalı Mh.       0.054667\n",
       "Kızılarık Mh.       0.046667\n",
       "Meydankavağı Mh.    0.033333\n",
       "Yeşilbahçe Mh.      0.030667\n",
       "Bayındır Mh.        0.029333\n",
       "Gençlik Mh.         0.022667\n",
       "Gebizli Mah.        0.022667\n",
       "Yüksekalan Mh.      0.022667\n",
       "Konuksever Mah.     0.022667\n",
       "Yenigün Mh.         0.020000\n",
       "Muratpaşa Mh.       0.018667\n",
       "Kızıltoprak Mh.     0.017333\n",
       "Kışla Mh.           0.017333\n",
       "Varlık Mh.          0.017333\n",
       "Bahçelievler Mh.    0.016000\n",
       "Soğuksu Mh.         0.016000\n",
       "Deniz Mah.          0.016000\n",
       "Üçgen Mh.           0.016000\n",
       "Altındağ Mh.        0.014667\n",
       "Sinan Mah.          0.014667\n",
       "Etiler Mah.         0.013333\n",
       "Sedir Mah.          0.012000\n",
       "Çaybaşı Mh.         0.010667\n",
       "Güvenlik Mh.        0.010667\n",
       "Meltem Mah.         0.010667\n",
       "Haşimişcan Mh.      0.009333\n",
       "Zerdalilik Mah.     0.009333\n",
       "Dutlubahçe Mh.      0.008000\n",
       "Kızılsaray Mh.      0.008000\n",
       "Güzelbağ Mh.        0.008000\n",
       "Yeşildere Mh.       0.006667\n",
       "Güzeloluk Mh.       0.006667\n",
       "Cumhuriyet Mah.     0.006667\n",
       "Elmalı Mh.          0.006667\n",
       "Demircikara Mah.    0.005333\n",
       "Tahılpazarı Mh.     0.005333\n",
       "Yıldız Mh.          0.005333\n",
       "Doğuyaka Mh.        0.005333\n",
       "Ermenek Mah.        0.005333\n",
       "Memurevleri Mah.    0.005333\n",
       "Mehmetçik Mh.       0.002667\n",
       "Yenigöl Mh.         0.002667\n",
       "Balbey Mah.         0.001333\n",
       "Selçuk Mh.          0.001333\n",
       "Topçular Mh.        0.001333\n",
       "Kırcami Mh.         0.001333\n",
       "Yeşilova Mh.        0.001333\n",
       "Name: proportion, dtype: float64"
      ]
     },
     "execution_count": 6,
     "metadata": {},
     "output_type": "execute_result"
    }
   ],
   "source": [
    "df['mahalle'].value_counts(normalize=True)"
   ]
  },
  {
   "cell_type": "markdown",
   "id": "4e50be20",
   "metadata": {
    "papermill": {
     "duration": 0.005004,
     "end_time": "2024-06-23T09:56:47.972597",
     "exception": false,
     "start_time": "2024-06-23T09:56:47.967593",
     "status": "completed"
    },
    "tags": []
   },
   "source": [
    "## Fiyat Görselleştirme ##"
   ]
  },
  {
   "cell_type": "code",
   "execution_count": 7,
   "id": "f469c53c",
   "metadata": {
    "execution": {
     "iopub.execute_input": "2024-06-23T09:56:47.985052Z",
     "iopub.status.busy": "2024-06-23T09:56:47.984708Z",
     "iopub.status.idle": "2024-06-23T09:56:48.390882Z",
     "shell.execute_reply": "2024-06-23T09:56:48.389757Z"
    },
    "papermill": {
     "duration": 0.415013,
     "end_time": "2024-06-23T09:56:48.393262",
     "exception": false,
     "start_time": "2024-06-23T09:56:47.978249",
     "status": "completed"
    },
    "tags": []
   },
   "outputs": [
    {
     "data": {
      "text/plain": [
       "<Axes: ylabel='Frequency'>"
      ]
     },
     "execution_count": 7,
     "metadata": {},
     "output_type": "execute_result"
    },
    {
     "data": {
      "image/png": "[encoded data removed]",
      "text/plain": [
       "<Figure size 640x480 with 1 Axes>"
      ]
     },
     "metadata": {},
     "output_type": "display_data"
    }
   ],
   "source": [
    "df['fiyat'].plot.hist(bins=20)"
   ]
  },
  {
   "cell_type": "markdown",
   "id": "6a747dde",
   "metadata": {
    "papermill": {
     "duration": 0.005917,
     "end_time": "2024-06-23T09:56:48.404943",
     "exception": false,
     "start_time": "2024-06-23T09:56:48.399026",
     "status": "completed"
    },
    "tags": []
   },
   "source": [
    "## Betimsel İstatistikler ##"
   ]
  },
  {
   "cell_type": "code",
   "execution_count": 8,
   "id": "c2bbac2f",
   "metadata": {
    "execution": {
     "iopub.execute_input": "2024-06-23T09:56:48.417657Z",
     "iopub.status.busy": "2024-06-23T09:56:48.417304Z",
     "iopub.status.idle": "2024-06-23T09:56:48.468612Z",
     "shell.execute_reply": "2024-06-23T09:56:48.467554Z"
    },
    "papermill": {
     "duration": 0.060506,
     "end_time": "2024-06-23T09:56:48.471070",
     "exception": false,
     "start_time": "2024-06-23T09:56:48.410564",
     "status": "completed"
    },
    "tags": []
   },
   "outputs": [
    {
     "data": {
      "text/html": [
       "<div>\n",
       "<style scoped>\n",
       "    .dataframe tbody tr th:only-of-type {\n",
       "        vertical-align: middle;\n",
       "    }\n",
       "\n",
       "    .dataframe tbody tr th {\n",
       "        vertical-align: top;\n",
       "    }\n",
       "\n",
       "    .dataframe thead th {\n",
       "        text-align: right;\n",
       "    }\n",
       "</style>\n",
       "<table border=\"1\" class=\"dataframe\">\n",
       "  <thead>\n",
       "    <tr style=\"text-align: right;\">\n",
       "      <th></th>\n",
       "      <th>count</th>\n",
       "      <th>unique</th>\n",
       "      <th>top</th>\n",
       "      <th>freq</th>\n",
       "      <th>mean</th>\n",
       "      <th>std</th>\n",
       "      <th>min</th>\n",
       "      <th>25%</th>\n",
       "      <th>50%</th>\n",
       "      <th>75%</th>\n",
       "      <th>max</th>\n",
       "    </tr>\n",
       "  </thead>\n",
       "  <tbody>\n",
       "    <tr>\n",
       "      <th>mahalle</th>\n",
       "      <td>750</td>\n",
       "      <td>50</td>\n",
       "      <td>Güzeloba Mh.</td>\n",
       "      <td>163</td>\n",
       "      <td>NaN</td>\n",
       "      <td>NaN</td>\n",
       "      <td>NaN</td>\n",
       "      <td>NaN</td>\n",
       "      <td>NaN</td>\n",
       "      <td>NaN</td>\n",
       "      <td>NaN</td>\n",
       "    </tr>\n",
       "    <tr>\n",
       "      <th>fiyat</th>\n",
       "      <td>750.0</td>\n",
       "      <td>NaN</td>\n",
       "      <td>NaN</td>\n",
       "      <td>NaN</td>\n",
       "      <td>24260.117333</td>\n",
       "      <td>16680.292541</td>\n",
       "      <td>10250.0</td>\n",
       "      <td>15000.0</td>\n",
       "      <td>20000.0</td>\n",
       "      <td>27000.0</td>\n",
       "      <td>200000.0</td>\n",
       "    </tr>\n",
       "    <tr>\n",
       "      <th>brut_alan_m2</th>\n",
       "      <td>750.0</td>\n",
       "      <td>NaN</td>\n",
       "      <td>NaN</td>\n",
       "      <td>NaN</td>\n",
       "      <td>123.754667</td>\n",
       "      <td>53.26392</td>\n",
       "      <td>25.0</td>\n",
       "      <td>85.0</td>\n",
       "      <td>115.0</td>\n",
       "      <td>150.0</td>\n",
       "      <td>400.0</td>\n",
       "    </tr>\n",
       "    <tr>\n",
       "      <th>net_alan_m2</th>\n",
       "      <td>750.0</td>\n",
       "      <td>NaN</td>\n",
       "      <td>NaN</td>\n",
       "      <td>NaN</td>\n",
       "      <td>111.505333</td>\n",
       "      <td>48.517233</td>\n",
       "      <td>20.0</td>\n",
       "      <td>75.0</td>\n",
       "      <td>100.0</td>\n",
       "      <td>140.0</td>\n",
       "      <td>370.0</td>\n",
       "    </tr>\n",
       "    <tr>\n",
       "      <th>oda_sayisi</th>\n",
       "      <td>750</td>\n",
       "      <td>12</td>\n",
       "      <td>2+1</td>\n",
       "      <td>279</td>\n",
       "      <td>NaN</td>\n",
       "      <td>NaN</td>\n",
       "      <td>NaN</td>\n",
       "      <td>NaN</td>\n",
       "      <td>NaN</td>\n",
       "      <td>NaN</td>\n",
       "      <td>NaN</td>\n",
       "    </tr>\n",
       "    <tr>\n",
       "      <th>bina_yas</th>\n",
       "      <td>750</td>\n",
       "      <td>11</td>\n",
       "      <td>5-10 arası</td>\n",
       "      <td>159</td>\n",
       "      <td>NaN</td>\n",
       "      <td>NaN</td>\n",
       "      <td>NaN</td>\n",
       "      <td>NaN</td>\n",
       "      <td>NaN</td>\n",
       "      <td>NaN</td>\n",
       "      <td>NaN</td>\n",
       "    </tr>\n",
       "    <tr>\n",
       "      <th>dairenin_bulundugu_kat</th>\n",
       "      <td>750</td>\n",
       "      <td>22</td>\n",
       "      <td>2</td>\n",
       "      <td>139</td>\n",
       "      <td>NaN</td>\n",
       "      <td>NaN</td>\n",
       "      <td>NaN</td>\n",
       "      <td>NaN</td>\n",
       "      <td>NaN</td>\n",
       "      <td>NaN</td>\n",
       "      <td>NaN</td>\n",
       "    </tr>\n",
       "    <tr>\n",
       "      <th>bina_kat_sayisi</th>\n",
       "      <td>750.0</td>\n",
       "      <td>NaN</td>\n",
       "      <td>NaN</td>\n",
       "      <td>NaN</td>\n",
       "      <td>5.204</td>\n",
       "      <td>2.959853</td>\n",
       "      <td>1.0</td>\n",
       "      <td>3.0</td>\n",
       "      <td>4.0</td>\n",
       "      <td>7.0</td>\n",
       "      <td>17.0</td>\n",
       "    </tr>\n",
       "    <tr>\n",
       "      <th>isitma_turu</th>\n",
       "      <td>750</td>\n",
       "      <td>13</td>\n",
       "      <td>Klima</td>\n",
       "      <td>499</td>\n",
       "      <td>NaN</td>\n",
       "      <td>NaN</td>\n",
       "      <td>NaN</td>\n",
       "      <td>NaN</td>\n",
       "      <td>NaN</td>\n",
       "      <td>NaN</td>\n",
       "      <td>NaN</td>\n",
       "    </tr>\n",
       "    <tr>\n",
       "      <th>banyo_sayisi</th>\n",
       "      <td>750.0</td>\n",
       "      <td>NaN</td>\n",
       "      <td>NaN</td>\n",
       "      <td>NaN</td>\n",
       "      <td>1.28</td>\n",
       "      <td>0.52086</td>\n",
       "      <td>1.0</td>\n",
       "      <td>1.0</td>\n",
       "      <td>1.0</td>\n",
       "      <td>1.0</td>\n",
       "      <td>4.0</td>\n",
       "    </tr>\n",
       "    <tr>\n",
       "      <th>balkon</th>\n",
       "      <td>750.0</td>\n",
       "      <td>NaN</td>\n",
       "      <td>NaN</td>\n",
       "      <td>NaN</td>\n",
       "      <td>0.917333</td>\n",
       "      <td>0.275561</td>\n",
       "      <td>0.0</td>\n",
       "      <td>1.0</td>\n",
       "      <td>1.0</td>\n",
       "      <td>1.0</td>\n",
       "      <td>1.0</td>\n",
       "    </tr>\n",
       "    <tr>\n",
       "      <th>asansor</th>\n",
       "      <td>750.0</td>\n",
       "      <td>NaN</td>\n",
       "      <td>NaN</td>\n",
       "      <td>NaN</td>\n",
       "      <td>0.626667</td>\n",
       "      <td>0.484012</td>\n",
       "      <td>0.0</td>\n",
       "      <td>0.0</td>\n",
       "      <td>1.0</td>\n",
       "      <td>1.0</td>\n",
       "      <td>1.0</td>\n",
       "    </tr>\n",
       "    <tr>\n",
       "      <th>otopark</th>\n",
       "      <td>750</td>\n",
       "      <td>4</td>\n",
       "      <td>Açık Otopark</td>\n",
       "      <td>508</td>\n",
       "      <td>NaN</td>\n",
       "      <td>NaN</td>\n",
       "      <td>NaN</td>\n",
       "      <td>NaN</td>\n",
       "      <td>NaN</td>\n",
       "      <td>NaN</td>\n",
       "      <td>NaN</td>\n",
       "    </tr>\n",
       "    <tr>\n",
       "      <th>esya_durumu</th>\n",
       "      <td>750.0</td>\n",
       "      <td>NaN</td>\n",
       "      <td>NaN</td>\n",
       "      <td>NaN</td>\n",
       "      <td>0.482667</td>\n",
       "      <td>0.500033</td>\n",
       "      <td>0.0</td>\n",
       "      <td>0.0</td>\n",
       "      <td>0.0</td>\n",
       "      <td>1.0</td>\n",
       "      <td>1.0</td>\n",
       "    </tr>\n",
       "    <tr>\n",
       "      <th>site_icinde</th>\n",
       "      <td>750.0</td>\n",
       "      <td>NaN</td>\n",
       "      <td>NaN</td>\n",
       "      <td>NaN</td>\n",
       "      <td>0.281333</td>\n",
       "      <td>0.44995</td>\n",
       "      <td>0.0</td>\n",
       "      <td>0.0</td>\n",
       "      <td>0.0</td>\n",
       "      <td>1.0</td>\n",
       "      <td>1.0</td>\n",
       "    </tr>\n",
       "    <tr>\n",
       "      <th>aidat</th>\n",
       "      <td>750.0</td>\n",
       "      <td>NaN</td>\n",
       "      <td>NaN</td>\n",
       "      <td>NaN</td>\n",
       "      <td>419.381333</td>\n",
       "      <td>2644.590077</td>\n",
       "      <td>0.0</td>\n",
       "      <td>0.0</td>\n",
       "      <td>50.0</td>\n",
       "      <td>300.0</td>\n",
       "      <td>70000.0</td>\n",
       "    </tr>\n",
       "    <tr>\n",
       "      <th>depozito</th>\n",
       "      <td>750.0</td>\n",
       "      <td>NaN</td>\n",
       "      <td>NaN</td>\n",
       "      <td>NaN</td>\n",
       "      <td>21955.133333</td>\n",
       "      <td>24414.82518</td>\n",
       "      <td>0.0</td>\n",
       "      <td>500.0</td>\n",
       "      <td>18000.0</td>\n",
       "      <td>27375.0</td>\n",
       "      <td>200000.0</td>\n",
       "    </tr>\n",
       "    <tr>\n",
       "      <th>sahibi</th>\n",
       "      <td>750.0</td>\n",
       "      <td>NaN</td>\n",
       "      <td>NaN</td>\n",
       "      <td>NaN</td>\n",
       "      <td>0.088</td>\n",
       "      <td>0.283484</td>\n",
       "      <td>0.0</td>\n",
       "      <td>0.0</td>\n",
       "      <td>0.0</td>\n",
       "      <td>0.0</td>\n",
       "      <td>1.0</td>\n",
       "    </tr>\n",
       "  </tbody>\n",
       "</table>\n",
       "</div>"
      ],
      "text/plain": [
       "                        count unique           top freq          mean  \\\n",
       "mahalle                   750     50  Güzeloba Mh.  163           NaN   \n",
       "fiyat                   750.0    NaN           NaN  NaN  24260.117333   \n",
       "brut_alan_m2            750.0    NaN           NaN  NaN    123.754667   \n",
       "net_alan_m2             750.0    NaN           NaN  NaN    111.505333   \n",
       "oda_sayisi                750     12           2+1  279           NaN   \n",
       "bina_yas                  750     11    5-10 arası  159           NaN   \n",
       "dairenin_bulundugu_kat    750     22             2  139           NaN   \n",
       "bina_kat_sayisi         750.0    NaN           NaN  NaN         5.204   \n",
       "isitma_turu               750     13         Klima  499           NaN   \n",
       "banyo_sayisi            750.0    NaN           NaN  NaN          1.28   \n",
       "balkon                  750.0    NaN           NaN  NaN      0.917333   \n",
       "asansor                 750.0    NaN           NaN  NaN      0.626667   \n",
       "otopark                   750      4  Açık Otopark  508           NaN   \n",
       "esya_durumu             750.0    NaN           NaN  NaN      0.482667   \n",
       "site_icinde             750.0    NaN           NaN  NaN      0.281333   \n",
       "aidat                   750.0    NaN           NaN  NaN    419.381333   \n",
       "depozito                750.0    NaN           NaN  NaN  21955.133333   \n",
       "sahibi                  750.0    NaN           NaN  NaN         0.088   \n",
       "\n",
       "                                 std      min      25%      50%      75%  \\\n",
       "mahalle                          NaN      NaN      NaN      NaN      NaN   \n",
       "fiyat                   16680.292541  10250.0  15000.0  20000.0  27000.0   \n",
       "brut_alan_m2                53.26392     25.0     85.0    115.0    150.0   \n",
       "net_alan_m2                48.517233     20.0     75.0    100.0    140.0   \n",
       "oda_sayisi                       NaN      NaN      NaN      NaN      NaN   \n",
       "bina_yas                         NaN      NaN      NaN      NaN      NaN   \n",
       "dairenin_bulundugu_kat           NaN      NaN      NaN      NaN      NaN   \n",
       "bina_kat_sayisi             2.959853      1.0      3.0      4.0      7.0   \n",
       "isitma_turu                      NaN      NaN      NaN      NaN      NaN   \n",
       "banyo_sayisi                 0.52086      1.0      1.0      1.0      1.0   \n",
       "balkon                      0.275561      0.0      1.0      1.0      1.0   \n",
       "asansor                     0.484012      0.0      0.0      1.0      1.0   \n",
       "otopark                          NaN      NaN      NaN      NaN      NaN   \n",
       "esya_durumu                 0.500033      0.0      0.0      0.0      1.0   \n",
       "site_icinde                  0.44995      0.0      0.0      0.0      1.0   \n",
       "aidat                    2644.590077      0.0      0.0     50.0    300.0   \n",
       "depozito                 24414.82518      0.0    500.0  18000.0  27375.0   \n",
       "sahibi                      0.283484      0.0      0.0      0.0      0.0   \n",
       "\n",
       "                             max  \n",
       "mahalle                      NaN  \n",
       "fiyat                   200000.0  \n",
       "brut_alan_m2               400.0  \n",
       "net_alan_m2                370.0  \n",
       "oda_sayisi                   NaN  \n",
       "bina_yas                     NaN  \n",
       "dairenin_bulundugu_kat       NaN  \n",
       "bina_kat_sayisi             17.0  \n",
       "isitma_turu                  NaN  \n",
       "banyo_sayisi                 4.0  \n",
       "balkon                       1.0  \n",
       "asansor                      1.0  \n",
       "otopark                      NaN  \n",
       "esya_durumu                  1.0  \n",
       "site_icinde                  1.0  \n",
       "aidat                    70000.0  \n",
       "depozito                200000.0  \n",
       "sahibi                       1.0  "
      ]
     },
     "execution_count": 8,
     "metadata": {},
     "output_type": "execute_result"
    }
   ],
   "source": [
    "df.describe(include=\"all\").T"
   ]
  },
  {
   "cell_type": "markdown",
   "id": "d0a7b1fb",
   "metadata": {
    "papermill": {
     "duration": 0.005752,
     "end_time": "2024-06-23T09:56:48.482958",
     "exception": false,
     "start_time": "2024-06-23T09:56:48.477206",
     "status": "completed"
    },
    "tags": []
   },
   "source": [
    "## Eksik Veri Kontrolü ##"
   ]
  },
  {
   "cell_type": "code",
   "execution_count": 9,
   "id": "d9371ce9",
   "metadata": {
    "execution": {
     "iopub.execute_input": "2024-06-23T09:56:48.496582Z",
     "iopub.status.busy": "2024-06-23T09:56:48.496191Z",
     "iopub.status.idle": "2024-06-23T09:56:48.504964Z",
     "shell.execute_reply": "2024-06-23T09:56:48.503920Z"
    },
    "papermill": {
     "duration": 0.018137,
     "end_time": "2024-06-23T09:56:48.507051",
     "exception": false,
     "start_time": "2024-06-23T09:56:48.488914",
     "status": "completed"
    },
    "tags": []
   },
   "outputs": [
    {
     "data": {
      "text/plain": [
       "mahalle                   0\n",
       "fiyat                     0\n",
       "brut_alan_m2              0\n",
       "net_alan_m2               0\n",
       "oda_sayisi                0\n",
       "bina_yas                  0\n",
       "dairenin_bulundugu_kat    0\n",
       "bina_kat_sayisi           0\n",
       "isitma_turu               0\n",
       "banyo_sayisi              0\n",
       "balkon                    0\n",
       "asansor                   0\n",
       "otopark                   0\n",
       "esya_durumu               0\n",
       "site_icinde               0\n",
       "aidat                     0\n",
       "depozito                  0\n",
       "sahibi                    0\n",
       "dtype: int64"
      ]
     },
     "execution_count": 9,
     "metadata": {},
     "output_type": "execute_result"
    }
   ],
   "source": [
    "df.isnull().sum()"
   ]
  },
  {
   "cell_type": "code",
   "execution_count": 10,
   "id": "0dd91058",
   "metadata": {
    "execution": {
     "iopub.execute_input": "2024-06-23T09:56:48.521151Z",
     "iopub.status.busy": "2024-06-23T09:56:48.520795Z",
     "iopub.status.idle": "2024-06-23T09:56:48.822909Z",
     "shell.execute_reply": "2024-06-23T09:56:48.821787Z"
    },
    "papermill": {
     "duration": 0.312334,
     "end_time": "2024-06-23T09:56:48.825633",
     "exception": false,
     "start_time": "2024-06-23T09:56:48.513299",
     "status": "completed"
    },
    "tags": []
   },
   "outputs": [
    {
     "data": {
      "text/plain": [
       "<Axes: xlabel='isitma_turu'>"
      ]
     },
     "execution_count": 10,
     "metadata": {},
     "output_type": "execute_result"
    },
    {
     "data": {
      "image/png": "[encoded data removed]",
      "text/plain": [
       "<Figure size 640x480 with 1 Axes>"
      ]
     },
     "metadata": {},
     "output_type": "display_data"
    }
   ],
   "source": [
    "df['isitma_turu'].value_counts().plot.bar()"
   ]
  },
  {
   "cell_type": "code",
   "execution_count": null,
   "id": "794137a8",
   "metadata": {
    "papermill": {
     "duration": 0.006651,
     "end_time": "2024-06-23T09:56:48.839531",
     "exception": false,
     "start_time": "2024-06-23T09:56:48.832880",
     "status": "completed"
    },
    "tags": []
   },
   "outputs": [],
   "source": []
  }
 ],
 "metadata": {
  "kaggle": {
   "accelerator": "none",
   "dataSources": [
    {
     "datasetId": 5266094,
     "sourceId": 8764348,
     "sourceType": "datasetVersion"
    }
   ],
   "dockerImageVersionId": 30732,
   "isGpuEnabled": false,
   "isInternetEnabled": true,
   "language": "python",
   "sourceType": "notebook"
  },
  "kernelspec": {
   "display_name": "Python 3",
   "language": "python",
   "name": "python3"
  },
  "language_info": {
   "codemirror_mode": {
    "name": "ipython",
    "version": 3
   },
   "file_extension": ".py",
   "mimetype": "text/x-python",
   "name": "python",
   "nbconvert_exporter": "python",
   "pygments_lexer": "ipython3",
   "version": "3.10.13"
  },
  "papermill": {
   "default_parameters": {},
   "duration": 6.573954,
   "end_time": "2024-06-23T09:56:49.467930",
   "environment_variables": {},
   "exception": null,
   "input_path": "__notebook__.ipynb",
   "output_path": "__notebook__.ipynb",
   "parameters": {},
   "start_time": "2024-06-23T09:56:42.893976",
   "version": "2.5.0"
  }
 },
 "nbformat": 4,
 "nbformat_minor": 5
}
