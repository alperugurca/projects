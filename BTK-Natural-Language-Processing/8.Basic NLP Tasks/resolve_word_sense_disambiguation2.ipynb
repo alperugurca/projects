{
 "cells": [
  {
   "cell_type": "markdown",
   "metadata": {},
   "source": [
    "# 1. Simple Lesk, Adapted Lesk, Cosine Lesk"
   ]
  },
  {
   "cell_type": "code",
   "execution_count": 1,
   "metadata": {},
   "outputs": [
    {
     "name": "stderr",
     "output_type": "stream",
     "text": [
      "Warming up PyWSD (takes ~10 secs)... took 13.551531314849854 secs.\n",
      "[nltk_data] Downloading package averaged_perceptron_tagger to\n",
      "[nltk_data]     C:\\Users\\alperugurcan\\AppData\\Roaming\\nltk_data...\n",
      "[nltk_data]   Package averaged_perceptron_tagger is already up-to-\n",
      "[nltk_data]       date!\n",
      "[nltk_data] Downloading package wordnet to\n",
      "[nltk_data]     C:\\Users\\alperugurcan\\AppData\\Roaming\\nltk_data...\n",
      "[nltk_data]   Package wordnet is already up-to-date!\n",
      "[nltk_data] Downloading package punkt to\n",
      "[nltk_data]     C:\\Users\\alperugurcan\\AppData\\Roaming\\nltk_data...\n",
      "[nltk_data]   Package punkt is already up-to-date!\n"
     ]
    }
   ],
   "source": [
    "import nltk\n",
    "from pywsd.lesk import simple_lesk, adapted_lesk, cosine_lesk\n",
    "\n",
    "# Download required NLTK resources\n",
    "nltk.download('averaged_perceptron_tagger')\n",
    "nltk.download('wordnet')\n",
    "nltk.download('punkt')\n",
    "\n",
    "sentences = [\"I went to the bank to deposit my money\", \"The river bank was flooded after the heavy rain\"]\n",
    "word = \"bank\""
   ]
  },
  {
   "cell_type": "code",
   "execution_count": 9,
   "metadata": {},
   "outputs": [
    {
     "name": "stdout",
     "output_type": "stream",
     "text": [
      "Sentence: I went to the bank to deposit my money\n",
      "Simple Lesk: a financial institution that accepts deposits and channels the money into lending activities\n",
      "Adapted Lesk: a financial institution that accepts deposits and channels the money into lending activities\n",
      "Cosine Lesk: a container (usually with a slot in the top) for keeping money at home\n",
      "----------------------------------------------------------------------------------------------------\n",
      "Sentence: The river bank was flooded after the heavy rain\n",
      "Simple Lesk: sloping land (especially the slope beside a body of water)\n",
      "Adapted Lesk: sloping land (especially the slope beside a body of water)\n",
      "Cosine Lesk: a supply or stock held in reserve for future use (especially in emergencies)\n",
      "----------------------------------------------------------------------------------------------------\n"
     ]
    }
   ],
   "source": [
    "sentences = [\"I went to the bank to deposit my money\", \"The river bank was flooded after the heavy rain\"]\n",
    "\n",
    "word = \"bank\"\n",
    "\n",
    "for s in sentences:\n",
    "\n",
    "    print(f\"Sentence: {s}\")\n",
    "\n",
    "\n",
    "    sense_simple_lesk = simple_lesk(s, word)\n",
    "    print(f\"Simple Lesk: {sense_simple_lesk.definition()}\")\n",
    "\n",
    "\n",
    "    sense_adapted_lesk  = adapted_lesk(s, word)\n",
    "    print(f\"Adapted Lesk: {sense_adapted_lesk.definition()}\")\n",
    "\n",
    "\n",
    "    sense_cosine_lesk = cosine_lesk(s, word)\n",
    "    print(f\"Cosine Lesk: {sense_cosine_lesk.definition()}\")\n",
    "\n",
    "    print(\"-\"*100)"
   ]
  },
  {
   "cell_type": "code",
   "execution_count": null,
   "metadata": {},
   "outputs": [],
   "source": []
  },
  {
   "cell_type": "code",
   "execution_count": null,
   "metadata": {},
   "outputs": [],
   "source": []
  }
 ],
 "metadata": {
  "kernelspec": {
   "display_name": "Python 3",
   "language": "python",
   "name": "python3"
  },
  "language_info": {
   "codemirror_mode": {
    "name": "ipython",
    "version": 3
   },
   "file_extension": ".py",
   "mimetype": "text/x-python",
   "name": "python",
   "nbconvert_exporter": "python",
   "pygments_lexer": "ipython3",
   "version": "3.10.11"
  }
 },
 "nbformat": 4,
 "nbformat_minor": 2
}
