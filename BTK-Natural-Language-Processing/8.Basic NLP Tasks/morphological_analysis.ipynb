{
 "cells": [
  {
   "cell_type": "markdown",
   "metadata": {},
   "source": [
    "# 1. Morphological Analysis"
   ]
  },
  {
   "cell_type": "code",
   "execution_count": 1,
   "metadata": {},
   "outputs": [],
   "source": [
    "import spacy\n",
    "nlp=spacy.load(\"en_core_web_sm\")\n"
   ]
  },
  {
   "cell_type": "code",
   "execution_count": 22,
   "metadata": {},
   "outputs": [
    {
     "name": "stdout",
     "output_type": "stream",
     "text": [
      "Text: I\n",
      "Lemma: I\n",
      "POS: PRON\n",
      "Tag: PRP\n",
      "Dep: ROOT\n",
      "Shape: X\n",
      "is_alpha: True\n",
      "is_stop: True\n",
      "is_morphological: Case=Nom|Number=Sing|Person=1|PronType=Prs\n",
      "is_plural: False\n",
      "\n",
      "Text: to\n",
      "Lemma: to\n",
      "POS: ADP\n",
      "Tag: IN\n",
      "Dep: prep\n",
      "Shape: xx\n",
      "is_alpha: True\n",
      "is_stop: True\n",
      "is_morphological: \n",
      "is_plural: False\n",
      "\n",
      "Text: school\n",
      "Lemma: school\n",
      "POS: NOUN\n",
      "Tag: NN\n",
      "Dep: pobj\n",
      "Shape: xxxx\n",
      "is_alpha: True\n",
      "is_stop: False\n",
      "is_morphological: Number=Sing\n",
      "is_plural: False\n",
      "\n"
     ]
    }
   ],
   "source": [
    "# words\n",
    "word = \"I to school\"\n",
    "\n",
    "# \n",
    "doc = nlp(word)\n",
    "\n",
    "for token in doc:\n",
    "    print(f\"Text: {token.text}\") # text\n",
    "    print(f\"Lemma: {token.lemma_}\") # lemma\n",
    "    print(f\"POS: {token.pos_}\") # part of speech\n",
    "    print(f\"Tag: {token.tag_}\") # tag\n",
    "    print(f\"Dep: {token.dep_}\") # dependency\n",
    "    print(f\"Shape: {token.shape_}\") # character shape\n",
    "    print(f\"is_alpha: {token.is_alpha}\") # is alphabetic\n",
    "    print(f\"is_stop: {token.is_stop}\") # is stop word\n",
    "    print(f\"is_morphological: {token.morph}\") # is morphological feature\n",
    "    print(f\"is_plural: {'Number=Plur' in token.morph}\") # is plural\n",
    "    print()\n",
    "\n",
    "\n",
    "\n",
    "\n"
   ]
  },
  {
   "cell_type": "code",
   "execution_count": null,
   "metadata": {},
   "outputs": [],
   "source": []
  }
 ],
 "metadata": {
  "kernelspec": {
   "display_name": "Python 3",
   "language": "python",
   "name": "python3"
  },
  "language_info": {
   "codemirror_mode": {
    "name": "ipython",
    "version": 3
   },
   "file_extension": ".py",
   "mimetype": "text/x-python",
   "name": "python",
   "nbconvert_exporter": "python",
   "pygments_lexer": "ipython3",
   "version": "3.10.11"
  }
 },
 "nbformat": 4,
 "nbformat_minor": 2
}
