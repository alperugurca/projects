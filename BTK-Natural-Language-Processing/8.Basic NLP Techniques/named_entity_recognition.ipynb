{
 "cells": [
  {
   "cell_type": "markdown",
   "metadata": {},
   "source": [
    "# 1. Named Entity Recognition (NER) "
   ]
  },
  {
   "cell_type": "code",
   "execution_count": 1,
   "metadata": {},
   "outputs": [],
   "source": [
    "# import libraries\n",
    "import pandas as pd\n",
    "import spacy"
   ]
  },
  {
   "cell_type": "code",
   "execution_count": 3,
   "metadata": {},
   "outputs": [
    {
     "name": "stdout",
     "output_type": "stream",
     "text": [
      "Collecting en-core-web-sm==3.8.0\n",
      "  Downloading https://github.com/explosion/spacy-models/releases/download/en_core_web_sm-3.8.0/en_core_web_sm-3.8.0-py3-none-any.whl (12.8 MB)\n",
      "     ---------------------------------------- 0.0/12.8 MB ? eta -:--:--\n",
      "     ---------------------------------------- 0.0/12.8 MB 1.4 MB/s eta 0:00:10\n",
      "     ---------------------------------------- 0.1/12.8 MB 1.7 MB/s eta 0:00:08\n",
      "      --------------------------------------- 0.2/12.8 MB 1.8 MB/s eta 0:00:07\n",
      "     - -------------------------------------- 0.4/12.8 MB 2.1 MB/s eta 0:00:06\n",
      "     - -------------------------------------- 0.6/12.8 MB 2.9 MB/s eta 0:00:05\n",
      "     -- ------------------------------------- 0.8/12.8 MB 3.0 MB/s eta 0:00:04\n",
      "     ---- ----------------------------------- 1.4/12.8 MB 4.4 MB/s eta 0:00:03\n",
      "     ----- ---------------------------------- 1.6/12.8 MB 4.3 MB/s eta 0:00:03\n",
      "     ------ --------------------------------- 2.1/12.8 MB 4.9 MB/s eta 0:00:03\n",
      "     ------- -------------------------------- 2.3/12.8 MB 4.9 MB/s eta 0:00:03\n",
      "     -------- ------------------------------- 2.6/12.8 MB 5.0 MB/s eta 0:00:03\n",
      "     -------- ------------------------------- 2.8/12.8 MB 4.9 MB/s eta 0:00:03\n",
      "     --------- ------------------------------ 3.1/12.8 MB 4.9 MB/s eta 0:00:02\n",
      "     ---------- ----------------------------- 3.3/12.8 MB 4.9 MB/s eta 0:00:02\n",
      "     ----------- ---------------------------- 3.6/12.8 MB 4.9 MB/s eta 0:00:02\n",
      "     ----------- ---------------------------- 3.7/12.8 MB 4.9 MB/s eta 0:00:02\n",
      "     ------------ --------------------------- 4.1/12.8 MB 5.0 MB/s eta 0:00:02\n",
      "     ------------- -------------------------- 4.2/12.8 MB 4.9 MB/s eta 0:00:02\n",
      "     -------------- ------------------------- 4.6/12.8 MB 5.0 MB/s eta 0:00:02\n",
      "     -------------- ------------------------- 4.8/12.8 MB 4.9 MB/s eta 0:00:02\n",
      "     --------------- ------------------------ 5.1/12.8 MB 5.0 MB/s eta 0:00:02\n",
      "     ---------------- ----------------------- 5.2/12.8 MB 4.9 MB/s eta 0:00:02\n",
      "     ----------------- ---------------------- 5.5/12.8 MB 4.9 MB/s eta 0:00:02\n",
      "     ----------------- ---------------------- 5.7/12.8 MB 4.9 MB/s eta 0:00:02\n",
      "     ------------------- -------------------- 6.1/12.8 MB 5.0 MB/s eta 0:00:02\n",
      "     -------------------- ------------------- 6.4/12.8 MB 5.0 MB/s eta 0:00:02\n",
      "     -------------------- ------------------- 6.6/12.8 MB 5.0 MB/s eta 0:00:02\n",
      "     --------------------- ------------------ 6.9/12.8 MB 5.0 MB/s eta 0:00:02\n",
      "     ---------------------- ----------------- 7.2/12.8 MB 5.0 MB/s eta 0:00:02\n",
      "     ----------------------- ---------------- 7.5/12.8 MB 5.0 MB/s eta 0:00:02\n",
      "     ------------------------ --------------- 7.7/12.8 MB 5.0 MB/s eta 0:00:02\n",
      "     ------------------------ --------------- 7.9/12.8 MB 5.0 MB/s eta 0:00:01\n",
      "     ------------------------- -------------- 8.1/12.8 MB 5.1 MB/s eta 0:00:01\n",
      "     -------------------------- ------------- 8.4/12.8 MB 5.0 MB/s eta 0:00:01\n",
      "     --------------------------- ------------ 8.7/12.8 MB 5.0 MB/s eta 0:00:01\n",
      "     --------------------------- ------------ 8.9/12.8 MB 5.1 MB/s eta 0:00:01\n",
      "     ---------------------------- ----------- 9.2/12.8 MB 5.0 MB/s eta 0:00:01\n",
      "     ----------------------------- ---------- 9.5/12.8 MB 5.1 MB/s eta 0:00:01\n",
      "     ------------------------------ --------- 9.7/12.8 MB 5.1 MB/s eta 0:00:01\n",
      "     ------------------------------- -------- 10.0/12.8 MB 5.1 MB/s eta 0:00:01\n",
      "     -------------------------------- ------- 10.3/12.8 MB 5.2 MB/s eta 0:00:01\n",
      "     -------------------------------- ------- 10.5/12.8 MB 5.3 MB/s eta 0:00:01\n",
      "     -------------------------------- ------- 10.5/12.8 MB 5.3 MB/s eta 0:00:01\n",
      "     --------------------------------- ------ 10.7/12.8 MB 5.2 MB/s eta 0:00:01\n",
      "     ----------------------------------- ---- 11.5/12.8 MB 5.2 MB/s eta 0:00:01\n",
      "     ------------------------------------ --- 11.6/12.8 MB 5.2 MB/s eta 0:00:01\n",
      "     ------------------------------------ --- 11.6/12.8 MB 5.2 MB/s eta 0:00:01\n",
      "     ---------------------------------------  12.8/12.8 MB 5.4 MB/s eta 0:00:01\n",
      "     ---------------------------------------  12.8/12.8 MB 5.4 MB/s eta 0:00:01\n",
      "     ---------------------------------------- 12.8/12.8 MB 5.2 MB/s eta 0:00:00\n",
      "Installing collected packages: en-core-web-sm\n",
      "Successfully installed en-core-web-sm-3.8.0\n",
      "\u001b[38;5;2m✔ Download and installation successful\u001b[0m\n",
      "You can now load the package via spacy.load('en_core_web_sm')\n"
     ]
    },
    {
     "name": "stderr",
     "output_type": "stream",
     "text": [
      "\n",
      "[notice] A new release of pip is available: 23.0.1 -> 24.3.1\n",
      "[notice] To update, run: python.exe -m pip install --upgrade pip\n"
     ]
    }
   ],
   "source": [
    "!python -m spacy download en_core_web_sm"
   ]
  },
  {
   "cell_type": "code",
   "execution_count": 7,
   "metadata": {},
   "outputs": [
    {
     "name": "stdout",
     "output_type": "stream",
     "text": [
      "Alice 0 5 PERSON\n",
      "Amazon 15 21 ORG\n",
      "London 35 41 GPE\n",
      "the British Museum 55 73 ORG\n",
      "last weekend 74 86 DATE\n",
      "               Entity  Start  End   Label               Lemma\n",
      "0               Alice      0    5  PERSON               Alice\n",
      "1              Amazon     15   21     ORG              Amazon\n",
      "2              London     35   41     GPE              London\n",
      "3  the British Museum     55   73     ORG  the British Museum\n",
      "4        last weekend     74   86    DATE        last weekend\n"
     ]
    }
   ],
   "source": [
    "nlp = spacy.load(\"en_core_web_sm\") # Load the English model\n",
    "\n",
    "content = \"Alice works at Amazon and lives in London. She visited the British Museum last weekend.\"\n",
    "\n",
    "doc = nlp(content) # Entities are extracted from the content\n",
    "\n",
    "\n",
    "for ent in doc.ents:\n",
    "    # ent.text: The text of the entity\n",
    "    # ent.start_char: The start character index of the entity in the content\n",
    "    # ent.end_char: The end character index of the entity in the content\n",
    "    # ent.label_: The label of the entity\n",
    "    print(ent.text, ent.start_char, ent.end_char, ent.label_)\n",
    "\n",
    "\n",
    "entities = [(ent.text, ent.start_char, ent.end_char, ent.label_, ent.lemma_) for ent in doc.ents]\n",
    "\n",
    "df = pd.DataFrame(entities, columns=[\"Entity\", \"Start\", \"End\", \"Label\", \"Lemma\"])\n",
    "print(df)\n",
    "\n",
    "\n"
   ]
  },
  {
   "cell_type": "code",
   "execution_count": null,
   "metadata": {},
   "outputs": [],
   "source": []
  }
 ],
 "metadata": {
  "kernelspec": {
   "display_name": "Python 3",
   "language": "python",
   "name": "python3"
  },
  "language_info": {
   "codemirror_mode": {
    "name": "ipython",
    "version": 3
   },
   "file_extension": ".py",
   "mimetype": "text/x-python",
   "name": "python",
   "nbconvert_exporter": "python",
   "pygments_lexer": "ipython3",
   "version": "3.10.11"
  }
 },
 "nbformat": 4,
 "nbformat_minor": 2
}
