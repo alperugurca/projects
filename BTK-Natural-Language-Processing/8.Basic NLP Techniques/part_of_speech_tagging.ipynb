{
 "cells": [
  {
   "cell_type": "markdown",
   "metadata": {},
   "source": [
    "# 1. Part of Speech Tagging"
   ]
  },
  {
   "cell_type": "code",
   "execution_count": 2,
   "metadata": {},
   "outputs": [],
   "source": [
    "import spacy\n",
    "\n",
    "nlp = spacy.load(\"en_core_web_sm\")"
   ]
  },
  {
   "cell_type": "code",
   "execution_count": 4,
   "metadata": {},
   "outputs": [
    {
     "name": "stdout",
     "output_type": "stream",
     "text": [
      "Text: What\n",
      "POS: PRON\n",
      "\n",
      "Text: is\n",
      "POS: AUX\n",
      "\n",
      "Text: the\n",
      "POS: DET\n",
      "\n",
      "Text: weather\n",
      "POS: NOUN\n",
      "\n",
      "Text: like\n",
      "POS: ADP\n",
      "\n",
      "Text: in\n",
      "POS: ADP\n",
      "\n",
      "Text: Tokyo\n",
      "POS: PROPN\n",
      "\n",
      "Text: ?\n",
      "POS: PUNCT\n",
      "\n"
     ]
    }
   ],
   "source": [
    "sentence1 = \"What is the weather like in Tokyo?\"\n",
    "sentence2 = \"I am going to school\"\n",
    "\n",
    "doc1 = nlp(sentence1)\n",
    "doc2 = nlp(sentence2)\n",
    "\n",
    "for token in doc1:\n",
    "    print(f\"Text: {token.text}\")\n",
    "    print(f\"POS: {token.pos_}\")\n",
    "    print()\n"
   ]
  },
  {
   "cell_type": "code",
   "execution_count": null,
   "metadata": {},
   "outputs": [],
   "source": []
  }
 ],
 "metadata": {
  "kernelspec": {
   "display_name": "Python 3",
   "language": "python",
   "name": "python3"
  },
  "language_info": {
   "codemirror_mode": {
    "name": "ipython",
    "version": 3
   },
   "file_extension": ".py",
   "mimetype": "text/x-python",
   "name": "python",
   "nbconvert_exporter": "python",
   "pygments_lexer": "ipython3",
   "version": "3.10.11"
  }
 },
 "nbformat": 4,
 "nbformat_minor": 2
}
