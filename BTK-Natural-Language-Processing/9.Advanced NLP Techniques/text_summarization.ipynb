{
 "cells": [
  {
   "cell_type": "code",
   "execution_count": 1,
   "metadata": {},
   "outputs": [],
   "source": [
    "from transformers import pipeline"
   ]
  },
  {
   "cell_type": "code",
   "execution_count": 4,
   "metadata": {},
   "outputs": [
    {
     "name": "stderr",
     "output_type": "stream",
     "text": [
      "No model was supplied, defaulted to sshleifer/distilbart-cnn-12-6 and revision a4f8f3e (https://huggingface.co/sshleifer/distilbart-cnn-12-6).\n",
      "Using a pipeline without specifying a model name and revision in production is not recommended.\n",
      "Device set to use cpu\n"
     ]
    }
   ],
   "source": [
    "summarizer=pipeline(\"summarization\")\n",
    "\n",
    "text = \"\"\"\n",
    "The Enigma of Bioluminescent Bays\n",
    "Hidden away in corners of the world, there exist natural phenomena so extraordinary they seem almost otherworldly: bioluminescent bays. These rare bodies of water, found in places like Puerto Rico’s Vieques Island or Jamaica’s Luminous Lagoon, are home to microscopic organisms called dinoflagellates. When disturbed, these tiny creatures emit a brilliant blue-green light, creating a dazzling spectacle.\n",
    "\n",
    "Imagine dipping your hand into the water and watching it glow as if infused with stardust, each ripple a trail of shimmering light. This bioluminescence is a defensive mechanism, designed to startle predators. However, for humans, it’s pure magic—a luminous dance of life hidden beneath the sea’s surface.\n",
    "\n",
    "What makes these bays even more fascinating is their delicate balance. The conditions required for this glow-in-the-dark phenomenon are so specific that even slight changes in water temperature, salinity, or pollution levels can disrupt the ecosystem, causing the light to fade.\n",
    "\n",
    "In recent years, the growing awareness of these bays' fragility has led to efforts to protect them. Strict regulations on boat traffic, pollution, and even light pollution from nearby towns have been implemented to preserve this natural wonder. The interplay of science, nature, and conservation makes bioluminescent bays a truly captivating subject, one that reminds us of the hidden marvels our planet has to offer.\n",
    "\"\"\"\n",
    "\n",
    "summary = summarizer(\n",
    "    text,\n",
    "    max_length = 20,\n",
    "    min_length = 5,\n",
    "    do_sample = True\n",
    ")"
   ]
  },
  {
   "cell_type": "code",
   "execution_count": 5,
   "metadata": {},
   "outputs": [
    {
     "name": "stdout",
     "output_type": "stream",
     "text": [
      " Rare bioluminescent bays are found in places like Puerto Rico’\n"
     ]
    }
   ],
   "source": [
    "print(summary[0][\"summary_text\"])"
   ]
  }
 ],
 "metadata": {
  "kernelspec": {
   "display_name": "Python 3",
   "language": "python",
   "name": "python3"
  },
  "language_info": {
   "codemirror_mode": {
    "name": "ipython",
    "version": 3
   },
   "file_extension": ".py",
   "mimetype": "text/x-python",
   "name": "python",
   "nbconvert_exporter": "python",
   "pygments_lexer": "ipython3",
   "version": "3.10.11"
  }
 },
 "nbformat": 4,
 "nbformat_minor": 2
}
