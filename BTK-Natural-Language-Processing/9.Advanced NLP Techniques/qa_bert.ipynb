{
 "cells": [
  {
   "cell_type": "markdown",
   "metadata": {},
   "source": [
    "# Q&A with BERT"
   ]
  },
  {
   "cell_type": "code",
   "execution_count": 1,
   "metadata": {},
   "outputs": [
    {
     "name": "stderr",
     "output_type": "stream",
     "text": [
      "c:\\Users\\alperugurcan\\AppData\\Local\\Programs\\Python\\Python310\\lib\\site-packages\\tqdm\\auto.py:21: TqdmWarning: IProgress not found. Please update jupyter and ipywidgets. See https://ipywidgets.readthedocs.io/en/stable/user_install.html\n",
      "  from .autonotebook import tqdm as notebook_tqdm\n"
     ]
    }
   ],
   "source": [
    "from transformers import BertTokenizer, BertForQuestionAnswering\n",
    "import torch\n",
    "\n",
    "import warnings\n",
    "warnings.filterwarnings('ignore')"
   ]
  },
  {
   "cell_type": "code",
   "execution_count": 2,
   "metadata": {},
   "outputs": [
    {
     "name": "stderr",
     "output_type": "stream",
     "text": [
      "Some weights of the model checkpoint at bert-large-uncased-whole-word-masking-finetuned-squad were not used when initializing BertForQuestionAnswering: ['bert.pooler.dense.bias', 'bert.pooler.dense.weight']\n",
      "- This IS expected if you are initializing BertForQuestionAnswering from the checkpoint of a model trained on another task or with another architecture (e.g. initializing a BertForSequenceClassification model from a BertForPreTraining model).\n",
      "- This IS NOT expected if you are initializing BertForQuestionAnswering from the checkpoint of a model that you expect to be exactly identical (initializing a BertForSequenceClassification model from a BertForSequenceClassification model).\n"
     ]
    }
   ],
   "source": [
    "# Load BERT model fine-tuned on SQuAD (Stanford Question Answering Dataset)\n",
    "model_name = \"bert-large-uncased-whole-word-masking-finetuned-squad\"\n",
    "\n",
    "# Initialize BERT tokenizer for text preprocessing\n",
    "tokenizer = BertTokenizer.from_pretrained(model_name)\n",
    "\n",
    "# Initialize BERT model specifically for question answering tasks\n",
    "model = BertForQuestionAnswering.from_pretrained(model_name)\n",
    "\n",
    "def predict_answer(context, question):\n",
    "    \"\"\"\n",
    "    Extracts answer from context for given question using BERT model.\n",
    "    \n",
    "    Args:\n",
    "        context (str): Text passage containing the answer\n",
    "        question (str): Question to be answered\n",
    "    \n",
    "    Process:\n",
    "    1. Tokenize text and question using BERT tokenizer\n",
    "    2. Generate model predictions for answer position\n",
    "    3. Extract answer span using start/end indices\n",
    "    4. Convert tokens back to readable text\n",
    "    5. Return the answer string\n",
    "    \"\"\"\n",
    "    # Tokenize input text and add special tokens for BERT\n",
    "    encoding = tokenizer.encode_plus(question, context, return_tensors='pt', max_length=512, truncation=True)  # pt: PyTorch format\n",
    "\n",
    "    # Extract model inputs from encoding\n",
    "    input_ids = encoding['input_ids']  # Tokenized and encoded input text\n",
    "    attention_mask = encoding['attention_mask']  # Mask to identify valid input tokens\n",
    "\n",
    "    # Generate prediction scores for answer position\n",
    "    with torch.no_grad():\n",
    "        start_scores, end_scores = model(input_ids, attention_mask=attention_mask, return_dict=False)\n",
    "\n",
    "    # Find most probable start and end positions\n",
    "    start_index = torch.argmax(start_scores, dim=1).item()\n",
    "    end_index = torch.argmax(end_scores, dim=1).item()\n",
    "\n",
    "    # Extract answer tokens from predicted span\n",
    "    answer_tokens = tokenizer.convert_ids_to_tokens(input_ids[0][start_index:end_index+1])\n",
    "\n",
    "    # Convert tokens to readable text\n",
    "    answer = tokenizer.convert_tokens_to_string(answer_tokens)\n",
    "\n",
    "    return answer"
   ]
  },
  {
   "cell_type": "code",
   "execution_count": 3,
   "metadata": {},
   "outputs": [
    {
     "name": "stdout",
     "output_type": "stream",
     "text": [
      "Question: What is the capital of France?\n",
      "Answer: paris\n"
     ]
    }
   ],
   "source": [
    "question = \"What is the capital of France?\"\n",
    "context = \"France, officially the French Republic, is a country whose capital is Paris.\"\n",
    "answer = predict_answer(context, question)\n",
    "print(f\"Question: {question}\\nAnswer: {answer}\")\n"
   ]
  },
  {
   "cell_type": "code",
   "execution_count": null,
   "metadata": {},
   "outputs": [],
   "source": []
  }
 ],
 "metadata": {
  "kernelspec": {
   "display_name": "Python 3",
   "language": "python",
   "name": "python3"
  },
  "language_info": {
   "codemirror_mode": {
    "name": "ipython",
    "version": 3
   },
   "file_extension": ".py",
   "mimetype": "text/x-python",
   "name": "python",
   "nbconvert_exporter": "python",
   "pygments_lexer": "ipython3",
   "version": "3.10.11"
  }
 },
 "nbformat": 4,
 "nbformat_minor": 2
}
