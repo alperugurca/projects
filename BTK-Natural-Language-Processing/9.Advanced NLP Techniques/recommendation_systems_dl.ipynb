{
 "cells": [
  {
   "cell_type": "markdown",
   "metadata": {},
   "source": [
    "# Recommendation System with Deep Learning\n",
    "\n",
    "User -> Item -> Rating\n"
   ]
  },
  {
   "cell_type": "code",
   "execution_count": 7,
   "metadata": {},
   "outputs": [],
   "source": [
    "# import libraries\n",
    "import numpy as np\n",
    "\n",
    "from tensorflow.keras.models import Model\n",
    "from tensorflow.keras.layers import Input, Embedding, Flatten, Dot, Add, Activation, Dense\n",
    "from tensorflow.keras.optimizers import Adam\n",
    "\n",
    "from sklearn.model_selection import train_test_split\n"
   ]
  },
  {
   "cell_type": "code",
   "execution_count": 9,
   "metadata": {},
   "outputs": [],
   "source": [
    "# build datasets\n",
    "user_ids = np.array([0,1,2,3,4,0,1,2,3,4])\n",
    "item_ids = np.array([0,1,2,3,4,1,2,3,4,0])\n",
    "ratings = np.array([5,4,3,2,1,4,5,3,2,1])\n",
    "\n",
    "# train test split\n",
    "user_ids_train, user_ids_test, item_ids_train, item_ids_test, ratings_train, ratings_test = train_test_split(user_ids, item_ids, ratings, test_size = 0.2, random_state = 42)\n"
   ]
  },
  {
   "cell_type": "code",
   "execution_count": 10,
   "metadata": {},
   "outputs": [],
   "source": [
    "# Create neural network\n",
    "def create_model(num_users, num_items, embedding_dim):\n",
    "    # user input\n",
    "    user_input = Input(shape = (1,), name = \"user\")\n",
    "    # item input\n",
    "    item_input = Input(shape = (1,), name = \"item\")\n",
    "\n",
    "    # embedding layers\n",
    "    user_embedding = Embedding(input_dim = num_users, output_dim = embedding_dim, name = \"user_embedding\")(user_input)\n",
    "    item_embedding = Embedding(input_dim = num_items, output_dim = embedding_dim, name = \"item_embedding\")(item_input)\n",
    "    # flatten \n",
    "    user_vec = Flatten()(user_embedding)\n",
    "    item_vec = Flatten()(item_embedding)\n",
    "\n",
    "    # dot product\n",
    "    dot_product = Dot(axes = 1)([user_vec, item_vec])\n",
    "\n",
    "    # add activation\n",
    "    output = Dense(1)(dot_product)\n",
    "\n",
    "    # create model\n",
    "    model = Model(inputs = [user_input, item_input], outputs = output)\n",
    "    # compile model\n",
    "    model.compile(optimizer = Adam(learning_rate = 0.001), loss = \"mean_squared_error\")\n",
    "    return model\n"
   ]
  },
  {
   "cell_type": "code",
   "execution_count": 11,
   "metadata": {},
   "outputs": [
    {
     "name": "stdout",
     "output_type": "stream",
     "text": [
      "Epoch 1/10\n",
      "\u001b[1m1/1\u001b[0m \u001b[32m━━━━━━━━━━━━━━━━━━━━\u001b[0m\u001b[37m\u001b[0m \u001b[1m5s\u001b[0m 5s/step - loss: 9.2849 - val_loss: 24.9979\n",
      "Epoch 2/10\n",
      "\u001b[1m1/1\u001b[0m \u001b[32m━━━━━━━━━━━━━━━━━━━━\u001b[0m\u001b[37m\u001b[0m \u001b[1m1s\u001b[0m 1s/step - loss: 9.2785 - val_loss: 24.9877\n",
      "Epoch 3/10\n",
      "\u001b[1m1/1\u001b[0m \u001b[32m━━━━━━━━━━━━━━━━━━━━\u001b[0m\u001b[37m\u001b[0m \u001b[1m1s\u001b[0m 633ms/step - loss: 9.2721 - val_loss: 24.9774\n",
      "Epoch 4/10\n",
      "\u001b[1m1/1\u001b[0m \u001b[32m━━━━━━━━━━━━━━━━━━━━\u001b[0m\u001b[37m\u001b[0m \u001b[1m1s\u001b[0m 889ms/step - loss: 9.2657 - val_loss: 24.9672\n",
      "Epoch 5/10\n",
      "\u001b[1m1/1\u001b[0m \u001b[32m━━━━━━━━━━━━━━━━━━━━\u001b[0m\u001b[37m\u001b[0m \u001b[1m0s\u001b[0m 337ms/step - loss: 9.2592 - val_loss: 24.9570\n",
      "Epoch 6/10\n",
      "\u001b[1m1/1\u001b[0m \u001b[32m━━━━━━━━━━━━━━━━━━━━\u001b[0m\u001b[37m\u001b[0m \u001b[1m0s\u001b[0m 286ms/step - loss: 9.2528 - val_loss: 24.9468\n",
      "Epoch 7/10\n",
      "\u001b[1m1/1\u001b[0m \u001b[32m━━━━━━━━━━━━━━━━━━━━\u001b[0m\u001b[37m\u001b[0m \u001b[1m0s\u001b[0m 377ms/step - loss: 9.2463 - val_loss: 24.9366\n",
      "Epoch 8/10\n",
      "\u001b[1m1/1\u001b[0m \u001b[32m━━━━━━━━━━━━━━━━━━━━\u001b[0m\u001b[37m\u001b[0m \u001b[1m0s\u001b[0m 315ms/step - loss: 9.2398 - val_loss: 24.9264\n",
      "Epoch 9/10\n",
      "\u001b[1m1/1\u001b[0m \u001b[32m━━━━━━━━━━━━━━━━━━━━\u001b[0m\u001b[37m\u001b[0m \u001b[1m0s\u001b[0m 365ms/step - loss: 9.2333 - val_loss: 24.9162\n",
      "Epoch 10/10\n",
      "\u001b[1m1/1\u001b[0m \u001b[32m━━━━━━━━━━━━━━━━━━━━\u001b[0m\u001b[37m\u001b[0m \u001b[1m1s\u001b[0m 1s/step - loss: 9.2268 - val_loss: 24.9060\n"
     ]
    },
    {
     "data": {
      "text/plain": [
       "<keras.src.callbacks.history.History at 0x1674405c940>"
      ]
     },
     "execution_count": 11,
     "metadata": {},
     "output_type": "execute_result"
    }
   ],
   "source": [
    "# Train and Test the model\n",
    "num_users = len(np.unique(user_ids))\n",
    "num_items = len(np.unique(item_ids))\n",
    "embedding_dim = 8\n",
    "\n",
    "model = create_model(num_users, num_items, embedding_dim)\n",
    "\n",
    "model.fit([user_ids_train, item_ids_train], ratings_train, epochs = 10, verbose = 1, validation_split = 0.1)"
   ]
  },
  {
   "cell_type": "code",
   "execution_count": 12,
   "metadata": {},
   "outputs": [
    {
     "name": "stdout",
     "output_type": "stream",
     "text": [
      "\u001b[1m1/1\u001b[0m \u001b[32m━━━━━━━━━━━━━━━━━━━━\u001b[0m\u001b[37m\u001b[0m \u001b[1m1s\u001b[0m 888ms/step - loss: 9.9326\n",
      "Test Loss: 9.932550430297852\n"
     ]
    }
   ],
   "source": [
    "loss = model.evaluate([user_ids_test, item_ids_test], ratings_test, verbose = 1)\n",
    "print(f\"Test Loss: {loss}\")"
   ]
  },
  {
   "cell_type": "code",
   "execution_count": 23,
   "metadata": {},
   "outputs": [
    {
     "name": "stdout",
     "output_type": "stream",
     "text": [
      "\u001b[1m1/1\u001b[0m \u001b[32m━━━━━━━━━━━━━━━━━━━━\u001b[0m\u001b[37m\u001b[0m \u001b[1m0s\u001b[0m 264ms/step\n",
      "User: 0, item: 4, rating: 0.01\n"
     ]
    }
   ],
   "source": [
    "user_ids = np.array([0])\n",
    "item_ids = np.array([4])\n",
    "\n",
    "predictions = model.predict([user_ids, item_ids])\n",
    "print(f\"User: {user_ids[0]}, item: {item_ids[0]}, rating: {predictions[0][0]:.2f}\")\n"
   ]
  }
 ],
 "metadata": {
  "kernelspec": {
   "display_name": "Python 3",
   "language": "python",
   "name": "python3"
  },
  "language_info": {
   "codemirror_mode": {
    "name": "ipython",
    "version": 3
   },
   "file_extension": ".py",
   "mimetype": "text/x-python",
   "name": "python",
   "nbconvert_exporter": "python",
   "pygments_lexer": "ipython3",
   "version": "3.10.11"
  }
 },
 "nbformat": 4,
 "nbformat_minor": 2
}
