{
 "cells": [
  {
   "cell_type": "markdown",
   "metadata": {},
   "source": [
    "# Information Retrieval with BERT\n"
   ]
  },
  {
   "cell_type": "code",
   "execution_count": 1,
   "metadata": {},
   "outputs": [],
   "source": [
    "#import libraries\n",
    "from transformers import BertTokenizer, BertModel\n",
    "\n",
    "import numpy as np # for vector operations\n",
    "from sklearn.metrics.pairwise import cosine_similarity # for cosine similarity\n",
    "\n",
    "import warnings\n",
    "warnings.filterwarnings(\"ignore\")"
   ]
  },
  {
   "cell_type": "code",
   "execution_count": 2,
   "metadata": {},
   "outputs": [],
   "source": [
    "#tokenizer and model create\n",
    "model_name = \"bert-base-uncased\"\n",
    "\n",
    "tokenizer = BertTokenizer.from_pretrained(model_name) # load the tokenizer\n",
    "model = BertModel.from_pretrained(model_name) # load the model\n"
   ]
  },
  {
   "cell_type": "code",
   "execution_count": 10,
   "metadata": {},
   "outputs": [],
   "source": [
    "# make dataset\n",
    "documents = [\n",
    "    \"Machine Learning is a subset of Artificial Intelligence.\",\n",
    "    \"Natural Language Processing is a subset of Artificial Intelligence.\",\n",
    "    \"Deep Learning is a subset of Machine Learning.\",\n",
    "    \"Artificial Intelligence is a subset of Computer Science.\",\n",
    "    \"Computer Science is a subset of Science.\",\n",
    "    \"Science is a subset of Knowledge.\",\n",
    "    \"Knowledge is a subset of Information.\",\n",
    "    \"Information is a subset of Data.\",\n",
    "    \"Data is a subset of Knowledge.\",\n",
    "    \"I am doing my homework.\"\n",
    "]\n",
    "\n",
    "query = \"What is homework?\""
   ]
  },
  {
   "cell_type": "code",
   "execution_count": 11,
   "metadata": {},
   "outputs": [],
   "source": [
    "# get embedding function\n",
    "def get_embedding(text):\n",
    "    # tokenization\n",
    "    inputs = tokenizer(text, return_tensors=\"pt\", truncation=True, padding=True)\n",
    "    \n",
    "    # run the model\n",
    "    outputs = model(**inputs)\n",
    "    \n",
    "    # get last hidden state\n",
    "    last_hidden_state = outputs.last_hidden_state\n",
    "    \n",
    "    # create text representation\n",
    "    embedding = last_hidden_state.mean(dim=1)\n",
    "    \n",
    "    # return vector as numpy array\n",
    "    return embedding.detach().numpy()"
   ]
  },
  {
   "cell_type": "code",
   "execution_count": 12,
   "metadata": {},
   "outputs": [],
   "source": [
    "# get embeddings for documents and query\n",
    "\n",
    "doc_embeddings = np.vstack([get_embedding(doc) for doc in documents])\n",
    "query_embedding = get_embedding(query)\n",
    "\n",
    "# calculate cosine similarities\n",
    "similarities = cosine_similarity(query_embedding, doc_embeddings)"
   ]
  },
  {
   "cell_type": "code",
   "execution_count": 13,
   "metadata": {},
   "outputs": [
    {
     "data": {
      "text/plain": [
       "array([[0.53380096, 0.51289576, 0.48994267, 0.55721414, 0.591884  ,\n",
       "        0.5880113 , 0.548114  , 0.5134174 , 0.53442657, 0.72444445]],\n",
       "      dtype=float32)"
      ]
     },
     "execution_count": 13,
     "metadata": {},
     "output_type": "execute_result"
    }
   ],
   "source": [
    "similarities"
   ]
  },
  {
   "cell_type": "code",
   "execution_count": 14,
   "metadata": {},
   "outputs": [
    {
     "name": "stdout",
     "output_type": "stream",
     "text": [
      "Document: Machine Learning is a subset of Artificial Intelligence. \n",
      "0.5338009595870972\n",
      "Document: Natural Language Processing is a subset of Artificial Intelligence. \n",
      "0.5128957629203796\n",
      "Document: Deep Learning is a subset of Machine Learning. \n",
      "0.48994266986846924\n",
      "Document: Artificial Intelligence is a subset of Computer Science. \n",
      "0.5572141408920288\n",
      "Document: Computer Science is a subset of Science. \n",
      "0.5918840169906616\n",
      "Document: Science is a subset of Knowledge. \n",
      "0.5880113244056702\n",
      "Document: Knowledge is a subset of Information. \n",
      "0.548114001750946\n",
      "Document: Information is a subset of Data. \n",
      "0.5134174227714539\n",
      "Document: Data is a subset of Knowledge. \n",
      "0.5344265699386597\n",
      "Document: I am doing my homework. \n",
      "0.7244444489479065\n"
     ]
    }
   ],
   "source": [
    "for i, score in enumerate(similarities[0]):\n",
    "    print(f\"Document: {documents[i]} \\n{score}\")"
   ]
  }
 ],
 "metadata": {
  "kernelspec": {
   "display_name": "Python 3",
   "language": "python",
   "name": "python3"
  },
  "language_info": {
   "codemirror_mode": {
    "name": "ipython",
    "version": 3
   },
   "file_extension": ".py",
   "mimetype": "text/x-python",
   "name": "python",
   "nbconvert_exporter": "python",
   "pygments_lexer": "ipython3",
   "version": "3.10.11"
  }
 },
 "nbformat": 4,
 "nbformat_minor": 2
}
