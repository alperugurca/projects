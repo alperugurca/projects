{
 "cells": [
  {
   "cell_type": "markdown",
   "metadata": {},
   "source": [
    "# Frozen Lake\n",
    "\n",
    "Frozen lake involves crossing a frozen lake from start to goal without falling into any holes by walking over the frozen lake.  \n",
    "Action Space - Discrete(4)  \n",
    "Observation Space - Discrete(16)  \n",
    "import gymnasium.make(\"FrozenLake-v1\")  \n",
    "\n",
    "https://gymnasium.farama.org/environments/toy_text/frozen_lake"
   ]
  },
  {
   "cell_type": "markdown",
   "metadata": {},
   "source": [
    "## 1. Environment Explore"
   ]
  },
  {
   "cell_type": "code",
   "execution_count": 1,
   "metadata": {},
   "outputs": [],
   "source": [
    "import gym # import the gym library\n",
    "import random # import the random library\n",
    "import numpy as np # import the numpy library"
   ]
  },
  {
   "cell_type": "code",
   "execution_count": 2,
   "metadata": {},
   "outputs": [
    {
     "data": {
      "text/plain": [
       "(0, {'prob': 1})"
      ]
     },
     "execution_count": 2,
     "metadata": {},
     "output_type": "execute_result"
    }
   ],
   "source": [
    "environment = gym.make('FrozenLake-v1', is_slippery=False, render_mode='ansi') # make the environment\n",
    "environment.reset() # reset the environment\n",
    "\n",
    "# “S” for Start tile\n",
    "# “G” for Goal tile\n",
    "# “F” for frozen tile\n",
    "# “H” for a tile with a hole\n"
   ]
  },
  {
   "cell_type": "code",
   "execution_count": 3,
   "metadata": {},
   "outputs": [
    {
     "name": "stdout",
     "output_type": "stream",
     "text": [
      "\n",
      "\u001b[41mS\u001b[0mFFF\n",
      "FHFH\n",
      "FFFH\n",
      "HFFG\n",
      "\n"
     ]
    }
   ],
   "source": [
    "print(environment.render())"
   ]
  },
  {
   "cell_type": "code",
   "execution_count": 4,
   "metadata": {},
   "outputs": [],
   "source": [
    "nb_states = environment.observation_space.n # number of observations # 16\n",
    "nb_actions = environment.action_space.n # number of actions # 4\n",
    "\n",
    "# Q-table: states(16) x actions(4)\n",
    "\n",
    "q_table = np.zeros((nb_states, nb_actions)) # create a q_table with 16 states and 4 actions"
   ]
  },
  {
   "cell_type": "code",
   "execution_count": 5,
   "metadata": {},
   "outputs": [],
   "source": [
    "# 0: left\n",
    "# 1: down\n",
    "# 2: right\n",
    "# 3: up\n",
    "\n",
    "action = environment.action_space.sample() # sample a random action"
   ]
  },
  {
   "cell_type": "code",
   "execution_count": 6,
   "metadata": {},
   "outputs": [],
   "source": [
    "new_state, reward, done, info, _ = environment.step(action) # take the action and get the new state, reward, done, info"
   ]
  },
  {
   "cell_type": "code",
   "execution_count": 7,
   "metadata": {},
   "outputs": [
    {
     "data": {
      "text/plain": [
       "(0, 0.0, False, False, {'prob': 1.0})"
      ]
     },
     "execution_count": 7,
     "metadata": {},
     "output_type": "execute_result"
    }
   ],
   "source": [
    "new_state, reward, done, info, _"
   ]
  },
  {
   "cell_type": "markdown",
   "metadata": {},
   "source": [
    "## 2. Q-learning"
   ]
  },
  {
   "cell_type": "code",
   "execution_count": 8,
   "metadata": {},
   "outputs": [],
   "source": [
    "import matplotlib.pyplot as plt\n",
    "import gym\n",
    "import random\n",
    "import numpy as np"
   ]
  },
  {
   "cell_type": "code",
   "execution_count": 9,
   "metadata": {},
   "outputs": [
    {
     "data": {
      "text/plain": [
       "(0, {'prob': 1})"
      ]
     },
     "execution_count": 9,
     "metadata": {},
     "output_type": "execute_result"
    }
   ],
   "source": [
    "environment = gym.make('FrozenLake-v1', is_slippery=False)\n",
    "environment.reset()"
   ]
  },
  {
   "cell_type": "code",
   "execution_count": 10,
   "metadata": {},
   "outputs": [
    {
     "name": "stdout",
     "output_type": "stream",
     "text": [
      "q_table before training: \n",
      " [[0. 0. 0. 0.]\n",
      " [0. 0. 0. 0.]\n",
      " [0. 0. 0. 0.]\n",
      " [0. 0. 0. 0.]\n",
      " [0. 0. 0. 0.]\n",
      " [0. 0. 0. 0.]\n",
      " [0. 0. 0. 0.]\n",
      " [0. 0. 0. 0.]\n",
      " [0. 0. 0. 0.]\n",
      " [0. 0. 0. 0.]\n",
      " [0. 0. 0. 0.]\n",
      " [0. 0. 0. 0.]\n",
      " [0. 0. 0. 0.]\n",
      " [0. 0. 0. 0.]\n",
      " [0. 0. 0. 0.]\n",
      " [0. 0. 0. 0.]]\n"
     ]
    }
   ],
   "source": [
    "#q_table\n",
    "q_table = np.zeros((environment.observation_space.n, environment.action_space.n))\n",
    "\n",
    "#hyperparameters\n",
    "episodes = 1000 # number of episodes\n",
    "alpha = 0.5 # learning rate\n",
    "gamma = 0.9 # discount rate\n",
    "\n",
    "#list of outcomes to plot\n",
    "outcomes = []\n",
    "\n",
    "print(f\"q_table before training: \\n {q_table}\")"
   ]
  },
  {
   "cell_type": "code",
   "execution_count": 11,
   "metadata": {},
   "outputs": [
    {
     "name": "stdout",
     "output_type": "stream",
     "text": [
      "\n",
      "q_table after training:\n",
      "[[0.        0.59049   0.        0.       ]\n",
      " [0.        0.        0.        0.       ]\n",
      " [0.        0.        0.        0.       ]\n",
      " [0.        0.        0.        0.       ]\n",
      " [0.        0.6561    0.        0.       ]\n",
      " [0.        0.        0.        0.       ]\n",
      " [0.        0.2784375 0.        0.       ]\n",
      " [0.        0.        0.        0.       ]\n",
      " [0.        0.        0.729     0.       ]\n",
      " [0.        0.        0.81      0.       ]\n",
      " [0.        0.9       0.        0.       ]\n",
      " [0.        0.        0.        0.       ]\n",
      " [0.        0.        0.        0.       ]\n",
      " [0.        0.        0.        0.       ]\n",
      " [0.        0.        1.        0.       ]\n",
      " [0.        0.        0.        0.       ]]\n"
     ]
    }
   ],
   "source": [
    "for _ in range(episodes):\n",
    "\n",
    "    state , _ = environment.reset() # reset the environment and get the initial state\n",
    "    done = False\n",
    "    outcomes.append(\"Failure\")\n",
    "\n",
    "    while not done:\n",
    "\n",
    "        # action selection\n",
    "        if np.max(q_table[state]) > 0:\n",
    "            action = np.argmax(q_table[state])\n",
    "        else:\n",
    "            action = environment.action_space.sample()\n",
    "\n",
    "        # implement action\n",
    "        new_state, reward, done, info, _ = environment.step(action)\n",
    "\n",
    "        # update q_table\n",
    "        q_table[state, action] = q_table[state, action] + alpha * (reward + gamma * np.max(q_table[new_state]) - q_table[state, action])\n",
    "\n",
    "        # update state\n",
    "        state = new_state\n",
    "\n",
    "        if reward:\n",
    "            outcomes[-1] = (\"Success\")\n",
    "\n",
    "print()\n",
    "print(\"q_table after training:\")\n",
    "print(q_table)"
   ]
  },
  {
   "cell_type": "code",
   "execution_count": 12,
   "metadata": {},
   "outputs": [
    {
     "data": {
      "image/png": "[encoded data removed]",
      "text/plain": [
       "<Figure size 640x480 with 1 Axes>"
      ]
     },
     "metadata": {},
     "output_type": "display_data"
    }
   ],
   "source": [
    "plt.figure()\n",
    "plt.xlabel(\"Episode Number\")\n",
    "plt.ylabel(\"Outcome\")\n",
    "ax = plt.gca()\n",
    "ax.set_facecolor(\"#efeeea\")\n",
    "plt.bar(range(len(outcomes)), outcomes, color=\"green\", width=1)\n",
    "plt.show()"
   ]
  },
  {
   "cell_type": "markdown",
   "metadata": {},
   "source": [
    "## 3. Evaluation"
   ]
  },
  {
   "cell_type": "code",
   "execution_count": 13,
   "metadata": {},
   "outputs": [
    {
     "name": "stdout",
     "output_type": "stream",
     "text": [
      "Success rate: 100.0\n"
     ]
    }
   ],
   "source": [
    "episodes = 100\n",
    "nb_success = 0\n",
    "\n",
    "for _ in range(episodes):\n",
    "    state, _ = environment.reset()\n",
    "    done = False\n",
    "\n",
    "    while not done:\n",
    "\n",
    "        # choose action\n",
    "        if np.max(q_table[state]) > 0:\n",
    "            action = np.argmax(q_table[state])\n",
    "        else:\n",
    "            action = environment.action_space.sample()\n",
    "\n",
    "        # implement action\n",
    "        new_state, reward, done, info, _ = environment.step(action)\n",
    "\n",
    "        # update state\n",
    "        state = new_state\n",
    "\n",
    "        if reward > 0:\n",
    "            nb_success += 1\n",
    "\n",
    "print(f\"Success rate: {100*nb_success / episodes}\")"
   ]
  }
 ],
 "metadata": {
  "kernelspec": {
   "display_name": "frozenlake_env",
   "language": "python",
   "name": "python3"
  },
  "language_info": {
   "codemirror_mode": {
    "name": "ipython",
    "version": 3
   },
   "file_extension": ".py",
   "mimetype": "text/x-python",
   "name": "python",
   "nbconvert_exporter": "python",
   "pygments_lexer": "ipython3",
   "version": "3.10.11"
  }
 },
 "nbformat": 4,
 "nbformat_minor": 2
}
