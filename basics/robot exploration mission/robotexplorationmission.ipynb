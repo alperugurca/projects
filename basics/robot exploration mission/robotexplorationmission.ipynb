{
 "cells": [
  {
   "cell_type": "markdown",
   "metadata": {},
   "source": [
    "# Robot Exploration Mission\n",
    "\n",
    "Coding q learning algorithm with python."
   ]
  },
  {
   "cell_type": "markdown",
   "metadata": {},
   "source": [
    "## 1. Create RobotExploration Class"
   ]
  },
  {
   "cell_type": "code",
   "execution_count": 1,
   "metadata": {},
   "outputs": [],
   "source": [
    "import numpy as np\n",
    "import random\n",
    "import matplotlib.pyplot as plt"
   ]
  },
  {
   "cell_type": "code",
   "execution_count": 2,
   "metadata": {},
   "outputs": [],
   "source": [
    "class RobotExploration:\n",
    "    def __init__(self, size = 5):\n",
    "        self.size = size # 5x5 grid\n",
    "        self.state_space = size * size # 25\n",
    "        self.action_space = 4 # up, down, left, right\n",
    "        self.start_state = (0, 0) # starting position\n",
    "        self.goal_states = [(4, 4), (1, 3)] # goal states\n",
    "        self.obstacles = [(2, 2), (3, 3)] # obstacles\n",
    "        self.lab = np.zeros((size, size)) # 5x5 grid \n",
    "    \n",
    "    def reset(self):\n",
    "        self.robot_position = self.start_state\n",
    "        return self.robot_position\n",
    "    \n",
    "    def step(self, action):\n",
    "        x, y = self.robot_position\n",
    "\n",
    "        if action == 0: # up\n",
    "            x = max(0, x-1) # 0 is the minimum value for x\n",
    "        elif action == 1: # down\n",
    "            x = min(self.size-1, x+1) # self.size-1 is the maximum value for x\n",
    "        elif action == 2: # left\n",
    "            y = max(0, y-1)\n",
    "        elif action == 3: # right\n",
    "            y = min(self.size-1, y+1)\n",
    "\n",
    "        self.robot_position = (x, y)\n",
    "\n",
    "        if self.robot_position in self.goal_states: # if the robot is in the goal state\n",
    "            return self.robot_position, 10, True # return the goal state, reward 1, and done True\n",
    "        elif self.robot_position in self.obstacles: # if the robot is in the obstacle state\n",
    "            return self.robot_position, -5, False # return the obstacle state, reward -1, and done False\n",
    "        else:\n",
    "            return self.robot_position, 0, False"
   ]
  },
  {
   "cell_type": "markdown",
   "metadata": {},
   "source": [
    "## 2. Create Q learning Agent Class"
   ]
  },
  {
   "cell_type": "code",
   "execution_count": 3,
   "metadata": {},
   "outputs": [],
   "source": [
    "\n",
    "class QLearningAgent:\n",
    "    def __init__(self, env):\n",
    "        self.env = env # environment\n",
    "        self.q_table = np.zeros((env.state_space, env.action_space)) # initialize q_table\n",
    "        self.alpha = 0.1 # learning rate\n",
    "        self.gamma = 0.99 # discount factor\n",
    "        self.epsilon = 1.0 # exploration rate\n",
    "        self.epsilon_decay = 0.995 # epsilon decay\n",
    "        self.min_epsilon = 0.01 # minimum exploration rate\n",
    "\n",
    "    def get_state_index(self, state):\n",
    "        return state[0] * self.env.size + state[1] # return the index of the state\n",
    "\n",
    "    def choose_action(self, state):\n",
    "        if random.uniform(0, 1) < self.epsilon: # if the random number is less than the exploration rate\n",
    "            return random.randint(0, self.env.action_space - 1) # return a random action\n",
    "        else:\n",
    "            return np.argmax(self.q_table[self.get_state_index(state)]) # return the action with the highest q_value\n",
    "    def learn(self, state, action, reward, next_state):\n",
    "        state_idx = self.get_state_index(state) # get the index of the state\n",
    "        next_state_idx = self.get_state_index(next_state) # get the index of the next state\n",
    "        best_next_action = np.argmax(self.q_table[next_state_idx]) # get the action with the highest q_value\n",
    "        td_target = reward + self.gamma * self.q_table[next_state_idx][best_next_action] # calculate the td_target\n",
    "        td_delta = td_target - self.q_table[state_idx][action] # calculate the td_delta\n",
    "        self.q_table[state_idx][action] += self.alpha * td_delta # update the q_value"
   ]
  },
  {
   "cell_type": "markdown",
   "metadata": {},
   "source": [
    "## 3. Training and Testing"
   ]
  },
  {
   "cell_type": "code",
   "execution_count": 4,
   "metadata": {},
   "outputs": [
    {
     "data": {
      "image/png": "[encoded data removed]",
      "text/plain": [
       "<Figure size 640x480 with 1 Axes>"
      ]
     },
     "metadata": {},
     "output_type": "display_data"
    }
   ],
   "source": [
    "env = RobotExploration()\n",
    "agent = QLearningAgent(env)\n",
    "episodes = 1000\n",
    "rewards_per_episode = []\n",
    "\n",
    "for episode in range(episodes):\n",
    "    state = env.reset()\n",
    "    total_reward = 0\n",
    "    done = False\n",
    "    \n",
    "    while not done:\n",
    "        action = agent.choose_action(state)\n",
    "        next_state, reward, done = env.step(action)\n",
    "        agent.learn(state, action, reward, next_state)\n",
    "        state = next_state\n",
    "        total_reward += reward\n",
    "\n",
    "    agent.epsilon = max(agent.min_epsilon, agent.epsilon * agent.epsilon_decay) # decay the exploration rate\n",
    "    rewards_per_episode.append(total_reward)\n",
    "\n",
    "plt.plot(rewards_per_episode) # plot the rewards per episode\n",
    "plt.title('Rewards per Episode')\n",
    "plt.xlabel('Episode')\n",
    "plt.ylabel('Reward')\n",
    "plt.show()"
   ]
  }
 ],
 "metadata": {
  "kernelspec": {
   "display_name": "Python 3",
   "language": "python",
   "name": "python3"
  },
  "language_info": {
   "codemirror_mode": {
    "name": "ipython",
    "version": 3
   },
   "file_extension": ".py",
   "mimetype": "text/x-python",
   "name": "python",
   "nbconvert_exporter": "python",
   "pygments_lexer": "ipython3",
   "version": "3.10.11"
  }
 },
 "nbformat": 4,
 "nbformat_minor": 2
}
