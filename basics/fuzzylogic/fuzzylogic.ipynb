{
 "cells": [
  {
   "cell_type": "code",
   "execution_count": null,
   "metadata": {},
   "outputs": [],
   "source": [
    "# 1. Import the required libraries\n",
    "import numpy as np\n",
    "import skfuzzy as fuzz\n",
    "from skfuzzy import control as ctrl"
   ]
  },
  {
   "cell_type": "code",
   "execution_count": 2,
   "metadata": {},
   "outputs": [],
   "source": [
    "# 2. Define linguistic variables (inputs and output)\n",
    "temperature = ctrl.Antecedent(np.arange(15, 41, 1), 'temperature')\n",
    "humidity = ctrl.Antecedent(np.arange(0, 101, 1), 'humidity')\n",
    "fan_speed = ctrl.Consequent(np.arange(0, 101, 1), 'fan_speed')"
   ]
  },
  {
   "cell_type": "code",
   "execution_count": 3,
   "metadata": {},
   "outputs": [],
   "source": [
    "# 3. Membership functions \n",
    "# For temperature\n",
    "temperature['low'] = fuzz.trimf(temperature.universe, [15, 15, 25])\n",
    "temperature['medium'] = fuzz.trimf(temperature.universe, [20, 25, 30])\n",
    "temperature['high'] = fuzz.trimf(temperature.universe, [25, 40, 40])\n",
    "\n",
    "# For humidity\n",
    "humidity['low'] = fuzz.trimf(humidity.universe, [0, 0, 50])\n",
    "humidity['medium'] = fuzz.trimf(humidity.universe, [25, 50, 75])\n",
    "humidity['high'] = fuzz.trimf(humidity.universe, [50, 100, 100])\n",
    "\n",
    "# For the speed of the fan\n",
    "fan_speed['low'] = fuzz.trimf(fan_speed.universe, [0, 0, 50])\n",
    "fan_speed['medium'] = fuzz.trimf(fan_speed.universe, [25, 50, 75])\n",
    "fan_speed['high'] = fuzz.trimf(fan_speed.universe, [50, 100, 100])"
   ]
  },
  {
   "cell_type": "code",
   "execution_count": 4,
   "metadata": {},
   "outputs": [],
   "source": [
    "# 4. Define fuzzy rules\n",
    "rule1 = ctrl.Rule(temperature['high'] & humidity['high'], fan_speed['high'])\n",
    "rule2 = ctrl.Rule(temperature['medium'] & humidity['high'], fan_speed['medium'])\n",
    "rule3 = ctrl.Rule(temperature['low'] & humidity['low'], fan_speed['low'])"
   ]
  },
  {
   "cell_type": "code",
   "execution_count": 5,
   "metadata": {},
   "outputs": [],
   "source": [
    "# 5. Control system\n",
    "fan_ctrl = ctrl.ControlSystem([rule1, rule2, rule3])\n",
    "fan_simulation = ctrl.ControlSystemSimulation(fan_ctrl) "
   ]
  },
  {
   "cell_type": "code",
   "execution_count": 15,
   "metadata": {},
   "outputs": [
    {
     "data": {
      "text/plain": [
       "{'fan_speed': 80.1774891774891}"
      ]
     },
     "execution_count": 15,
     "metadata": {},
     "output_type": "execute_result"
    }
   ],
   "source": [
    "# 6. Input values and perform computation\n",
    "# Input values\n",
    "fan_simulation.input['temperature'] = 33  # Example temperature (°C)\n",
    "fan_simulation.input['humidity'] = 73    # Example humidity (%)\n",
    "\n",
    "# Perform computation\n",
    "fan_simulation.compute()\n",
    "fan_simulation.output"
   ]
  }
 ],
 "metadata": {
  "kernelspec": {
   "display_name": "Python 3",
   "language": "python",
   "name": "python3"
  },
  "language_info": {
   "codemirror_mode": {
    "name": "ipython",
    "version": 3
   },
   "file_extension": ".py",
   "mimetype": "text/x-python",
   "name": "python",
   "nbconvert_exporter": "python",
   "pygments_lexer": "ipython3",
   "version": "3.10.11"
  }
 },
 "nbformat": 4,
 "nbformat_minor": 2
}
